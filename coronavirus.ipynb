{
 "cells": [
  {
   "cell_type": "markdown",
   "metadata": {},
   "source": [
    "# COVID-19 ARTICLE ANALYSIS\n",
    "## LDA를 통한 캐나다 코로나 토픽 변화 분석"
   ]
  },
  {
   "cell_type": "code",
   "execution_count": 361,
   "metadata": {},
   "outputs": [],
   "source": [
    "import numpy as np\n",
    "import pandas as pd\n",
    "import matplotlib.pyplot as plt\n",
    "import seaborn as sns\n",
    "\n",
    "%matplotlib inline"
   ]
  },
  {
   "cell_type": "code",
   "execution_count": 573,
   "metadata": {},
   "outputs": [],
   "source": [
    "#오류 메시지 무시\n",
    "import warnings\n",
    "warnings.filterwarnings(action='ignore')"
   ]
  },
  {
   "cell_type": "code",
   "execution_count": 362,
   "metadata": {},
   "outputs": [],
   "source": [
    "#한글 깨짐 현상 방지\n",
    "plt.style.use('seaborn')\n",
    "plt.rc('font', family='Malgun Gothic')\n",
    "plt.rc('axes', unicode_minus=False)"
   ]
  },
  {
   "cell_type": "code",
   "execution_count": 363,
   "metadata": {},
   "outputs": [],
   "source": [
    "#데이터 로드\n",
    "covid = pd.read_csv('cbc-news-coronavirus-articles-march-26/news.csv') \n",
    "covid_canada = pd.read_csv('covid19_canada.csv')"
   ]
  },
  {
   "cell_type": "code",
   "execution_count": 364,
   "metadata": {},
   "outputs": [
    {
     "data": {
      "text/html": [
       "<div>\n",
       "<style scoped>\n",
       "    .dataframe tbody tr th:only-of-type {\n",
       "        vertical-align: middle;\n",
       "    }\n",
       "\n",
       "    .dataframe tbody tr th {\n",
       "        vertical-align: top;\n",
       "    }\n",
       "\n",
       "    .dataframe thead th {\n",
       "        text-align: right;\n",
       "    }\n",
       "</style>\n",
       "<table border=\"1\" class=\"dataframe\">\n",
       "  <thead>\n",
       "    <tr style=\"text-align: right;\">\n",
       "      <th></th>\n",
       "      <th>Unnamed: 0</th>\n",
       "      <th>authors</th>\n",
       "      <th>title</th>\n",
       "      <th>publish_date</th>\n",
       "      <th>description</th>\n",
       "      <th>text</th>\n",
       "      <th>url</th>\n",
       "    </tr>\n",
       "  </thead>\n",
       "  <tbody>\n",
       "    <tr>\n",
       "      <th>0</th>\n",
       "      <td>0</td>\n",
       "      <td>['Cbc News']</td>\n",
       "      <td>Coronavirus a 'wake-up call' for Canada's pres...</td>\n",
       "      <td>2020-03-27 08:00:00</td>\n",
       "      <td>Canadian pharmacies are limiting how much medi...</td>\n",
       "      <td>Canadian pharmacies are limiting how much medi...</td>\n",
       "      <td>https://www.cbc.ca/news/health/covid-19-drug-s...</td>\n",
       "    </tr>\n",
       "    <tr>\n",
       "      <th>1</th>\n",
       "      <td>1</td>\n",
       "      <td>['Cbc News']</td>\n",
       "      <td>Yukon gov't names 2 possible sources of corona...</td>\n",
       "      <td>2020-03-27 01:45:00</td>\n",
       "      <td>The Yukon government has identified two places...</td>\n",
       "      <td>The Yukon government has identified two places...</td>\n",
       "      <td>https://www.cbc.ca/news/canada/north/yukon-cor...</td>\n",
       "    </tr>\n",
       "    <tr>\n",
       "      <th>2</th>\n",
       "      <td>2</td>\n",
       "      <td>['The Associated Press']</td>\n",
       "      <td>U.S. Senate passes $2T coronavirus relief package</td>\n",
       "      <td>2020-03-26 05:13:00</td>\n",
       "      <td>The Senate has passed an unparalleled $2.2 tri...</td>\n",
       "      <td>The Senate late Wednesday passed an unparallel...</td>\n",
       "      <td>https://www.cbc.ca/news/world/senate-coronavir...</td>\n",
       "    </tr>\n",
       "    <tr>\n",
       "      <th>3</th>\n",
       "      <td>3</td>\n",
       "      <td>['Cbc News']</td>\n",
       "      <td>Coronavirus: The latest in drug treatment and ...</td>\n",
       "      <td>2020-03-27 00:36:00</td>\n",
       "      <td>Scientists around the world are racing to find...</td>\n",
       "      <td>Scientists around the world are racing to find...</td>\n",
       "      <td>https://www.cbc.ca/news/health/coronavirus-tre...</td>\n",
       "    </tr>\n",
       "    <tr>\n",
       "      <th>4</th>\n",
       "      <td>4</td>\n",
       "      <td>['Cbc News']</td>\n",
       "      <td>The latest on the coronavirus outbreak for Mar...</td>\n",
       "      <td>2020-03-26 20:57:00</td>\n",
       "      <td>The latest on the coronavirus outbreak from CB...</td>\n",
       "      <td>Trudeau says rules of Quarantine Act will ...</td>\n",
       "      <td>https://www.cbc.ca/news/the-latest-on-the-coro...</td>\n",
       "    </tr>\n",
       "  </tbody>\n",
       "</table>\n",
       "</div>"
      ],
      "text/plain": [
       "   Unnamed: 0                   authors  \\\n",
       "0           0              ['Cbc News']   \n",
       "1           1              ['Cbc News']   \n",
       "2           2  ['The Associated Press']   \n",
       "3           3              ['Cbc News']   \n",
       "4           4              ['Cbc News']   \n",
       "\n",
       "                                               title         publish_date  \\\n",
       "0  Coronavirus a 'wake-up call' for Canada's pres...  2020-03-27 08:00:00   \n",
       "1  Yukon gov't names 2 possible sources of corona...  2020-03-27 01:45:00   \n",
       "2  U.S. Senate passes $2T coronavirus relief package  2020-03-26 05:13:00   \n",
       "3  Coronavirus: The latest in drug treatment and ...  2020-03-27 00:36:00   \n",
       "4  The latest on the coronavirus outbreak for Mar...  2020-03-26 20:57:00   \n",
       "\n",
       "                                         description  \\\n",
       "0  Canadian pharmacies are limiting how much medi...   \n",
       "1  The Yukon government has identified two places...   \n",
       "2  The Senate has passed an unparalleled $2.2 tri...   \n",
       "3  Scientists around the world are racing to find...   \n",
       "4  The latest on the coronavirus outbreak from CB...   \n",
       "\n",
       "                                                text  \\\n",
       "0  Canadian pharmacies are limiting how much medi...   \n",
       "1  The Yukon government has identified two places...   \n",
       "2  The Senate late Wednesday passed an unparallel...   \n",
       "3  Scientists around the world are racing to find...   \n",
       "4      Trudeau says rules of Quarantine Act will ...   \n",
       "\n",
       "                                                 url  \n",
       "0  https://www.cbc.ca/news/health/covid-19-drug-s...  \n",
       "1  https://www.cbc.ca/news/canada/north/yukon-cor...  \n",
       "2  https://www.cbc.ca/news/world/senate-coronavir...  \n",
       "3  https://www.cbc.ca/news/health/coronavirus-tre...  \n",
       "4  https://www.cbc.ca/news/the-latest-on-the-coro...  "
      ]
     },
     "execution_count": 364,
     "metadata": {},
     "output_type": "execute_result"
    }
   ],
   "source": [
    "covid.head()"
   ]
  },
  {
   "cell_type": "code",
   "execution_count": 365,
   "metadata": {},
   "outputs": [
    {
     "data": {
      "text/html": [
       "<div>\n",
       "<style scoped>\n",
       "    .dataframe tbody tr th:only-of-type {\n",
       "        vertical-align: middle;\n",
       "    }\n",
       "\n",
       "    .dataframe tbody tr th {\n",
       "        vertical-align: top;\n",
       "    }\n",
       "\n",
       "    .dataframe thead th {\n",
       "        text-align: right;\n",
       "    }\n",
       "</style>\n",
       "<table border=\"1\" class=\"dataframe\">\n",
       "  <thead>\n",
       "    <tr style=\"text-align: right;\">\n",
       "      <th></th>\n",
       "      <th>pruid</th>\n",
       "      <th>prname</th>\n",
       "      <th>prnameFR</th>\n",
       "      <th>date</th>\n",
       "      <th>numconf</th>\n",
       "      <th>numprob</th>\n",
       "      <th>numdeaths</th>\n",
       "      <th>numtotal</th>\n",
       "      <th>numtested</th>\n",
       "      <th>numrecover</th>\n",
       "      <th>percentrecover</th>\n",
       "      <th>ratetested</th>\n",
       "      <th>numtoday</th>\n",
       "      <th>percentoday</th>\n",
       "    </tr>\n",
       "  </thead>\n",
       "  <tbody>\n",
       "    <tr>\n",
       "      <th>0</th>\n",
       "      <td>1</td>\n",
       "      <td>Canada</td>\n",
       "      <td>Canada</td>\n",
       "      <td>31-01-2020</td>\n",
       "      <td>4</td>\n",
       "      <td>0</td>\n",
       "      <td>0</td>\n",
       "      <td>4</td>\n",
       "      <td>NaN</td>\n",
       "      <td>NaN</td>\n",
       "      <td>NaN</td>\n",
       "      <td>NaN</td>\n",
       "      <td>4</td>\n",
       "      <td>4.000</td>\n",
       "    </tr>\n",
       "    <tr>\n",
       "      <th>1</th>\n",
       "      <td>1</td>\n",
       "      <td>Canada</td>\n",
       "      <td>Canada</td>\n",
       "      <td>08-02-2020</td>\n",
       "      <td>7</td>\n",
       "      <td>0</td>\n",
       "      <td>0</td>\n",
       "      <td>7</td>\n",
       "      <td>NaN</td>\n",
       "      <td>NaN</td>\n",
       "      <td>NaN</td>\n",
       "      <td>NaN</td>\n",
       "      <td>3</td>\n",
       "      <td>0.750</td>\n",
       "    </tr>\n",
       "    <tr>\n",
       "      <th>2</th>\n",
       "      <td>1</td>\n",
       "      <td>Canada</td>\n",
       "      <td>Canada</td>\n",
       "      <td>16-02-2020</td>\n",
       "      <td>8</td>\n",
       "      <td>0</td>\n",
       "      <td>0</td>\n",
       "      <td>8</td>\n",
       "      <td>NaN</td>\n",
       "      <td>NaN</td>\n",
       "      <td>NaN</td>\n",
       "      <td>NaN</td>\n",
       "      <td>1</td>\n",
       "      <td>0.143</td>\n",
       "    </tr>\n",
       "    <tr>\n",
       "      <th>3</th>\n",
       "      <td>1</td>\n",
       "      <td>Canada</td>\n",
       "      <td>Canada</td>\n",
       "      <td>21-02-2020</td>\n",
       "      <td>9</td>\n",
       "      <td>0</td>\n",
       "      <td>0</td>\n",
       "      <td>9</td>\n",
       "      <td>NaN</td>\n",
       "      <td>NaN</td>\n",
       "      <td>NaN</td>\n",
       "      <td>NaN</td>\n",
       "      <td>1</td>\n",
       "      <td>0.125</td>\n",
       "    </tr>\n",
       "    <tr>\n",
       "      <th>4</th>\n",
       "      <td>1</td>\n",
       "      <td>Canada</td>\n",
       "      <td>Canada</td>\n",
       "      <td>24-02-2020</td>\n",
       "      <td>10</td>\n",
       "      <td>0</td>\n",
       "      <td>0</td>\n",
       "      <td>10</td>\n",
       "      <td>NaN</td>\n",
       "      <td>NaN</td>\n",
       "      <td>NaN</td>\n",
       "      <td>NaN</td>\n",
       "      <td>1</td>\n",
       "      <td>0.111</td>\n",
       "    </tr>\n",
       "  </tbody>\n",
       "</table>\n",
       "</div>"
      ],
      "text/plain": [
       "   pruid  prname prnameFR        date  numconf  numprob  numdeaths  numtotal  \\\n",
       "0      1  Canada   Canada  31-01-2020        4        0          0         4   \n",
       "1      1  Canada   Canada  08-02-2020        7        0          0         7   \n",
       "2      1  Canada   Canada  16-02-2020        8        0          0         8   \n",
       "3      1  Canada   Canada  21-02-2020        9        0          0         9   \n",
       "4      1  Canada   Canada  24-02-2020       10        0          0        10   \n",
       "\n",
       "   numtested  numrecover  percentrecover  ratetested  numtoday  percentoday  \n",
       "0        NaN         NaN             NaN         NaN         4        4.000  \n",
       "1        NaN         NaN             NaN         NaN         3        0.750  \n",
       "2        NaN         NaN             NaN         NaN         1        0.143  \n",
       "3        NaN         NaN             NaN         NaN         1        0.125  \n",
       "4        NaN         NaN             NaN         NaN         1        0.111  "
      ]
     },
     "execution_count": 365,
     "metadata": {},
     "output_type": "execute_result"
    }
   ],
   "source": [
    "covid_canada.head()"
   ]
  },
  {
   "cell_type": "markdown",
   "metadata": {},
   "source": [
    "# 1. 데이터 설명\n",
    "\n",
    "## 1-1. COVID\n",
    "1. authors : article authors \n",
    "2. title : news title\n",
    "3. publish_date : date published\n",
    "4. description : short description of the story\n",
    "5. text : main story\n",
    "6. url : story url\n",
    "\n",
    "The dataset comes from CBC news's own search result regarding coronavirus.  \n",
    "This dataset is intended to mobilize researchers to apply recent advances in natural language processing to generate new insights in support of the fight against this infectious disease and future pandemics.  \n",
    "\n",
    "[출처] : [Kaggle](https://www.kaggle.com/ryanxjhan/cbc-news-coronavirus-articles-march-26/data)\n",
    "\n",
    "## 1-2. COVID-CANADA\n",
    "2020년 1월 31일 첫 확진자부터 2020년 5월 8일, 분석을 실시하는 날까지의 데이터로 캐나다의 코로나 일일확진자수, 누적확진자수, 사망자수 등이 일별로 기록되어 있음.\n",
    "\n",
    "[출처] : [Government of Canada](https://www.canada.ca/en/public-health/services/diseases/2019-novel-coronavirus-infection.html)"
   ]
  },
  {
   "cell_type": "markdown",
   "metadata": {},
   "source": [
    "<br>\n",
    "<br>\n",
    "    \n",
    "        \n",
    "        "
   ]
  },
  {
   "cell_type": "markdown",
   "metadata": {},
   "source": [
    "\n",
    "# 2. 데이터 전처리\n",
    "\n"
   ]
  },
  {
   "cell_type": "markdown",
   "metadata": {},
   "source": [
    "## 2-1. COVID :: 시간을 제외한 날짜 데이터 생성\n",
    "publish_date 변수를 년/월/일 까지만으로 분류하여 새로운 feature를 생성. (publish_date_ymd)"
   ]
  },
  {
   "cell_type": "code",
   "execution_count": 368,
   "metadata": {},
   "outputs": [],
   "source": [
    "covid[\"publish_date_ymd\"] = covid[\"publish_date\"].apply(lambda x: x[0:10])"
   ]
  },
  {
   "cell_type": "code",
   "execution_count": 369,
   "metadata": {},
   "outputs": [
    {
     "data": {
      "text/plain": [
       "0       2020-03-27\n",
       "1       2020-03-27\n",
       "2       2020-03-26\n",
       "3       2020-03-27\n",
       "4       2020-03-26\n",
       "           ...    \n",
       "3561    2015-12-23\n",
       "3562    2014-01-28\n",
       "3563    2012-11-02\n",
       "3564    2014-04-29\n",
       "3565    2013-06-04\n",
       "Name: publish_date_ymd, Length: 3566, dtype: object"
      ]
     },
     "execution_count": 369,
     "metadata": {},
     "output_type": "execute_result"
    }
   ],
   "source": [
    "covid[\"publish_date_ymd\"]"
   ]
  },
  {
   "cell_type": "markdown",
   "metadata": {},
   "source": [
    "## 2-2. COVID :: 날짜를 이용해 코로나 종류 별 데이터로 분리\n",
    "사스, 메르스, 신종코로나 바이러스-19 세 가지로 분리  \n",
    "편의를 위해 아까와 같이 날짜 데이터를 이용하되, 이번엔 ymd가 아니라 year만 이용"
   ]
  },
  {
   "cell_type": "code",
   "execution_count": 423,
   "metadata": {},
   "outputs": [
    {
     "data": {
      "text/plain": [
       "2004       2\n",
       "2006       1\n",
       "2012       5\n",
       "2013      16\n",
       "2014       6\n",
       "2015       1\n",
       "2019       1\n",
       "2020    3534\n",
       "Name: publish_date_yyyy, dtype: int64"
      ]
     },
     "execution_count": 423,
     "metadata": {},
     "output_type": "execute_result"
    }
   ],
   "source": [
    "covid[\"publish_date_yyyy\"] = covid[\"publish_date\"].apply(lambda x: x[0:4])\n",
    "covid[\"publish_date_yyyy\"].value_counts().sort_index()"
   ]
  },
  {
   "cell_type": "markdown",
   "metadata": {},
   "source": [
    "2004\\~2006년 사이의 기사는 사스 코로나 바이러스(3건),   \n",
    "2012\\~2015년 사이의 기사는 메르스 코로나 바이러스(28건),  \n",
    "2019\\~2020년 사이의 기사는 신종 코로나 바이러스-19에 대한 것으로 나눌 수 있었다.\n",
    "  \n",
    "### 본 연구는 신종 코로나 바이러스에 대해서만 연구하므로 COVID-19 데이터만 분리"
   ]
  },
  {
   "cell_type": "code",
   "execution_count": 424,
   "metadata": {},
   "outputs": [
    {
     "data": {
      "text/html": [
       "<div>\n",
       "<style scoped>\n",
       "    .dataframe tbody tr th:only-of-type {\n",
       "        vertical-align: middle;\n",
       "    }\n",
       "\n",
       "    .dataframe tbody tr th {\n",
       "        vertical-align: top;\n",
       "    }\n",
       "\n",
       "    .dataframe thead th {\n",
       "        text-align: right;\n",
       "    }\n",
       "</style>\n",
       "<table border=\"1\" class=\"dataframe\">\n",
       "  <thead>\n",
       "    <tr style=\"text-align: right;\">\n",
       "      <th></th>\n",
       "      <th>Unnamed: 0</th>\n",
       "      <th>authors</th>\n",
       "      <th>title</th>\n",
       "      <th>publish_date</th>\n",
       "      <th>description</th>\n",
       "      <th>text</th>\n",
       "      <th>url</th>\n",
       "      <th>publish_date_ymd</th>\n",
       "      <th>publish_date_yyyy</th>\n",
       "    </tr>\n",
       "  </thead>\n",
       "  <tbody>\n",
       "    <tr>\n",
       "      <th>0</th>\n",
       "      <td>0</td>\n",
       "      <td>['Cbc News']</td>\n",
       "      <td>Coronavirus a 'wake-up call' for Canada's pres...</td>\n",
       "      <td>2020-03-27 08:00:00</td>\n",
       "      <td>Canadian pharmacies are limiting how much medi...</td>\n",
       "      <td>Canadian pharmacies are limiting how much medi...</td>\n",
       "      <td>https://www.cbc.ca/news/health/covid-19-drug-s...</td>\n",
       "      <td>2020-03-27</td>\n",
       "      <td>2020</td>\n",
       "    </tr>\n",
       "    <tr>\n",
       "      <th>1</th>\n",
       "      <td>1</td>\n",
       "      <td>['Cbc News']</td>\n",
       "      <td>Yukon gov't names 2 possible sources of corona...</td>\n",
       "      <td>2020-03-27 01:45:00</td>\n",
       "      <td>The Yukon government has identified two places...</td>\n",
       "      <td>The Yukon government has identified two places...</td>\n",
       "      <td>https://www.cbc.ca/news/canada/north/yukon-cor...</td>\n",
       "      <td>2020-03-27</td>\n",
       "      <td>2020</td>\n",
       "    </tr>\n",
       "    <tr>\n",
       "      <th>2</th>\n",
       "      <td>2</td>\n",
       "      <td>['The Associated Press']</td>\n",
       "      <td>U.S. Senate passes $2T coronavirus relief package</td>\n",
       "      <td>2020-03-26 05:13:00</td>\n",
       "      <td>The Senate has passed an unparalleled $2.2 tri...</td>\n",
       "      <td>The Senate late Wednesday passed an unparallel...</td>\n",
       "      <td>https://www.cbc.ca/news/world/senate-coronavir...</td>\n",
       "      <td>2020-03-26</td>\n",
       "      <td>2020</td>\n",
       "    </tr>\n",
       "    <tr>\n",
       "      <th>3</th>\n",
       "      <td>3</td>\n",
       "      <td>['Cbc News']</td>\n",
       "      <td>Coronavirus: The latest in drug treatment and ...</td>\n",
       "      <td>2020-03-27 00:36:00</td>\n",
       "      <td>Scientists around the world are racing to find...</td>\n",
       "      <td>Scientists around the world are racing to find...</td>\n",
       "      <td>https://www.cbc.ca/news/health/coronavirus-tre...</td>\n",
       "      <td>2020-03-27</td>\n",
       "      <td>2020</td>\n",
       "    </tr>\n",
       "    <tr>\n",
       "      <th>4</th>\n",
       "      <td>4</td>\n",
       "      <td>['Cbc News']</td>\n",
       "      <td>The latest on the coronavirus outbreak for Mar...</td>\n",
       "      <td>2020-03-26 20:57:00</td>\n",
       "      <td>The latest on the coronavirus outbreak from CB...</td>\n",
       "      <td>Trudeau says rules of Quarantine Act will ...</td>\n",
       "      <td>https://www.cbc.ca/news/the-latest-on-the-coro...</td>\n",
       "      <td>2020-03-26</td>\n",
       "      <td>2020</td>\n",
       "    </tr>\n",
       "    <tr>\n",
       "      <th>...</th>\n",
       "      <td>...</td>\n",
       "      <td>...</td>\n",
       "      <td>...</td>\n",
       "      <td>...</td>\n",
       "      <td>...</td>\n",
       "      <td>...</td>\n",
       "      <td>...</td>\n",
       "      <td>...</td>\n",
       "      <td>...</td>\n",
       "    </tr>\n",
       "    <tr>\n",
       "      <th>3548</th>\n",
       "      <td>4589</td>\n",
       "      <td>['Cbc News']</td>\n",
       "      <td>Get informed on the top stories of the day in ...</td>\n",
       "      <td>2020-02-21 12:00:00</td>\n",
       "      <td>In today's Morning Brief, we look at the outlo...</td>\n",
       "      <td>Good morning! This is our daily news roundup w...</td>\n",
       "      <td>https://www.cbc.ca/news/morning-brief-february...</td>\n",
       "      <td>2020-02-21</td>\n",
       "      <td>2020</td>\n",
       "    </tr>\n",
       "    <tr>\n",
       "      <th>3550</th>\n",
       "      <td>4592</td>\n",
       "      <td>['Wyatt James Schierman Is A Freelance Writer ...</td>\n",
       "      <td>Let's stop fixating on soft 'news' and pay att...</td>\n",
       "      <td>2020-02-02 09:00:00</td>\n",
       "      <td>Some of the 'big' Canadian stories of 2020 so ...</td>\n",
       "      <td>This column is an opinion by Wyatt James Schie...</td>\n",
       "      <td>https://www.cbc.ca/news/opinion/opinion-media-...</td>\n",
       "      <td>2020-02-02</td>\n",
       "      <td>2020</td>\n",
       "    </tr>\n",
       "    <tr>\n",
       "      <th>3552</th>\n",
       "      <td>4595</td>\n",
       "      <td>['The Associated Press']</td>\n",
       "      <td>Fed stands pat, keeps benchmark U.S. interest ...</td>\n",
       "      <td>2020-01-29 19:14:00</td>\n",
       "      <td>The Federal Reserve kept its benchmark interes...</td>\n",
       "      <td>The Federal Reserve kept its benchmark interes...</td>\n",
       "      <td>https://www.cbc.ca/news/business/federal-reser...</td>\n",
       "      <td>2020-01-29</td>\n",
       "      <td>2020</td>\n",
       "    </tr>\n",
       "    <tr>\n",
       "      <th>3553</th>\n",
       "      <td>4596</td>\n",
       "      <td>['National Affairs Editor', \"Chris Hall Is The...</td>\n",
       "      <td>It's a new year, Mr. Trudeau. What do you want...</td>\n",
       "      <td>2020-01-29 09:00:00</td>\n",
       "      <td>If there's anything to be said about the Liber...</td>\n",
       "      <td>If there's anything to be said about the Liber...</td>\n",
       "      <td>https://www.cbc.ca/news/politics/trudeau-minor...</td>\n",
       "      <td>2020-01-29</td>\n",
       "      <td>2020</td>\n",
       "    </tr>\n",
       "    <tr>\n",
       "      <th>3559</th>\n",
       "      <td>4602</td>\n",
       "      <td>['Cbc News']</td>\n",
       "      <td>Get informed on the top stories of the day in ...</td>\n",
       "      <td>2020-02-06 12:00:00</td>\n",
       "      <td>In today's Morning Brief, we look at online ba...</td>\n",
       "      <td>Good morning! This is our daily news roundup w...</td>\n",
       "      <td>https://www.cbc.ca/news/morning-brief-february...</td>\n",
       "      <td>2020-02-06</td>\n",
       "      <td>2020</td>\n",
       "    </tr>\n",
       "  </tbody>\n",
       "</table>\n",
       "<p>3535 rows × 9 columns</p>\n",
       "</div>"
      ],
      "text/plain": [
       "      Unnamed: 0                                            authors  \\\n",
       "0              0                                       ['Cbc News']   \n",
       "1              1                                       ['Cbc News']   \n",
       "2              2                           ['The Associated Press']   \n",
       "3              3                                       ['Cbc News']   \n",
       "4              4                                       ['Cbc News']   \n",
       "...          ...                                                ...   \n",
       "3548        4589                                       ['Cbc News']   \n",
       "3550        4592  ['Wyatt James Schierman Is A Freelance Writer ...   \n",
       "3552        4595                           ['The Associated Press']   \n",
       "3553        4596  ['National Affairs Editor', \"Chris Hall Is The...   \n",
       "3559        4602                                       ['Cbc News']   \n",
       "\n",
       "                                                  title         publish_date  \\\n",
       "0     Coronavirus a 'wake-up call' for Canada's pres...  2020-03-27 08:00:00   \n",
       "1     Yukon gov't names 2 possible sources of corona...  2020-03-27 01:45:00   \n",
       "2     U.S. Senate passes $2T coronavirus relief package  2020-03-26 05:13:00   \n",
       "3     Coronavirus: The latest in drug treatment and ...  2020-03-27 00:36:00   \n",
       "4     The latest on the coronavirus outbreak for Mar...  2020-03-26 20:57:00   \n",
       "...                                                 ...                  ...   \n",
       "3548  Get informed on the top stories of the day in ...  2020-02-21 12:00:00   \n",
       "3550  Let's stop fixating on soft 'news' and pay att...  2020-02-02 09:00:00   \n",
       "3552  Fed stands pat, keeps benchmark U.S. interest ...  2020-01-29 19:14:00   \n",
       "3553  It's a new year, Mr. Trudeau. What do you want...  2020-01-29 09:00:00   \n",
       "3559  Get informed on the top stories of the day in ...  2020-02-06 12:00:00   \n",
       "\n",
       "                                            description  \\\n",
       "0     Canadian pharmacies are limiting how much medi...   \n",
       "1     The Yukon government has identified two places...   \n",
       "2     The Senate has passed an unparalleled $2.2 tri...   \n",
       "3     Scientists around the world are racing to find...   \n",
       "4     The latest on the coronavirus outbreak from CB...   \n",
       "...                                                 ...   \n",
       "3548  In today's Morning Brief, we look at the outlo...   \n",
       "3550  Some of the 'big' Canadian stories of 2020 so ...   \n",
       "3552  The Federal Reserve kept its benchmark interes...   \n",
       "3553  If there's anything to be said about the Liber...   \n",
       "3559  In today's Morning Brief, we look at online ba...   \n",
       "\n",
       "                                                   text  \\\n",
       "0     Canadian pharmacies are limiting how much medi...   \n",
       "1     The Yukon government has identified two places...   \n",
       "2     The Senate late Wednesday passed an unparallel...   \n",
       "3     Scientists around the world are racing to find...   \n",
       "4         Trudeau says rules of Quarantine Act will ...   \n",
       "...                                                 ...   \n",
       "3548  Good morning! This is our daily news roundup w...   \n",
       "3550  This column is an opinion by Wyatt James Schie...   \n",
       "3552  The Federal Reserve kept its benchmark interes...   \n",
       "3553  If there's anything to be said about the Liber...   \n",
       "3559  Good morning! This is our daily news roundup w...   \n",
       "\n",
       "                                                    url publish_date_ymd  \\\n",
       "0     https://www.cbc.ca/news/health/covid-19-drug-s...       2020-03-27   \n",
       "1     https://www.cbc.ca/news/canada/north/yukon-cor...       2020-03-27   \n",
       "2     https://www.cbc.ca/news/world/senate-coronavir...       2020-03-26   \n",
       "3     https://www.cbc.ca/news/health/coronavirus-tre...       2020-03-27   \n",
       "4     https://www.cbc.ca/news/the-latest-on-the-coro...       2020-03-26   \n",
       "...                                                 ...              ...   \n",
       "3548  https://www.cbc.ca/news/morning-brief-february...       2020-02-21   \n",
       "3550  https://www.cbc.ca/news/opinion/opinion-media-...       2020-02-02   \n",
       "3552  https://www.cbc.ca/news/business/federal-reser...       2020-01-29   \n",
       "3553  https://www.cbc.ca/news/politics/trudeau-minor...       2020-01-29   \n",
       "3559  https://www.cbc.ca/news/morning-brief-february...       2020-02-06   \n",
       "\n",
       "     publish_date_yyyy  \n",
       "0                 2020  \n",
       "1                 2020  \n",
       "2                 2020  \n",
       "3                 2020  \n",
       "4                 2020  \n",
       "...                ...  \n",
       "3548              2020  \n",
       "3550              2020  \n",
       "3552              2020  \n",
       "3553              2020  \n",
       "3559              2020  \n",
       "\n",
       "[3535 rows x 9 columns]"
      ]
     },
     "execution_count": 424,
     "metadata": {},
     "output_type": "execute_result"
    }
   ],
   "source": [
    "covid19 = covid.query(\"publish_date_yyyy == '2019' or publish_date_yyyy == '2020'\")\n",
    "covid19"
   ]
  },
  {
   "cell_type": "markdown",
   "metadata": {},
   "source": [
    "## 2-3. COVID_CANADA ::  일일 확진자 및 누적확진자 컬럼만 빼고 제거"
   ]
  },
  {
   "cell_type": "code",
   "execution_count": 366,
   "metadata": {},
   "outputs": [],
   "source": [
    "covid_canada = covid_canada[['date','numtotal', 'numtoday']]"
   ]
  },
  {
   "cell_type": "code",
   "execution_count": 367,
   "metadata": {},
   "outputs": [
    {
     "data": {
      "text/html": [
       "<div>\n",
       "<style scoped>\n",
       "    .dataframe tbody tr th:only-of-type {\n",
       "        vertical-align: middle;\n",
       "    }\n",
       "\n",
       "    .dataframe tbody tr th {\n",
       "        vertical-align: top;\n",
       "    }\n",
       "\n",
       "    .dataframe thead th {\n",
       "        text-align: right;\n",
       "    }\n",
       "</style>\n",
       "<table border=\"1\" class=\"dataframe\">\n",
       "  <thead>\n",
       "    <tr style=\"text-align: right;\">\n",
       "      <th></th>\n",
       "      <th>date</th>\n",
       "      <th>numtotal</th>\n",
       "      <th>numtoday</th>\n",
       "    </tr>\n",
       "  </thead>\n",
       "  <tbody>\n",
       "    <tr>\n",
       "      <th>0</th>\n",
       "      <td>31-01-2020</td>\n",
       "      <td>4</td>\n",
       "      <td>4</td>\n",
       "    </tr>\n",
       "    <tr>\n",
       "      <th>1</th>\n",
       "      <td>08-02-2020</td>\n",
       "      <td>7</td>\n",
       "      <td>3</td>\n",
       "    </tr>\n",
       "    <tr>\n",
       "      <th>2</th>\n",
       "      <td>16-02-2020</td>\n",
       "      <td>8</td>\n",
       "      <td>1</td>\n",
       "    </tr>\n",
       "    <tr>\n",
       "      <th>3</th>\n",
       "      <td>21-02-2020</td>\n",
       "      <td>9</td>\n",
       "      <td>1</td>\n",
       "    </tr>\n",
       "    <tr>\n",
       "      <th>4</th>\n",
       "      <td>24-02-2020</td>\n",
       "      <td>10</td>\n",
       "      <td>1</td>\n",
       "    </tr>\n",
       "  </tbody>\n",
       "</table>\n",
       "</div>"
      ],
      "text/plain": [
       "         date  numtotal  numtoday\n",
       "0  31-01-2020         4         4\n",
       "1  08-02-2020         7         3\n",
       "2  16-02-2020         8         1\n",
       "3  21-02-2020         9         1\n",
       "4  24-02-2020        10         1"
      ]
     },
     "execution_count": 367,
     "metadata": {},
     "output_type": "execute_result"
    }
   ],
   "source": [
    "covid_canada.head()"
   ]
  },
  {
   "cell_type": "markdown",
   "metadata": {},
   "source": [
    "<br>\n",
    "<hr>\n",
    "\n",
    "# 3. 데이터 시각화"
   ]
  },
  {
   "cell_type": "markdown",
   "metadata": {},
   "source": [
    "## 3-1. COVID :: 날짜별 코로나 뉴스 데이터 개수"
   ]
  },
  {
   "cell_type": "code",
   "execution_count": 370,
   "metadata": {},
   "outputs": [],
   "source": [
    "date_count = covid['publish_date_ymd'].value_counts()\n",
    "date_count = date_count.sort_index(ascending=True)"
   ]
  },
  {
   "cell_type": "markdown",
   "metadata": {},
   "source": [
    "정렬결과, 데이터는 2004-01-16 ~ 2020-03-27 사이의 데이터인 것을 알 수 있었다.  \n",
    "총 데이터의 개수는 3566개이다."
   ]
  },
  {
   "cell_type": "code",
   "execution_count": 421,
   "metadata": {},
   "outputs": [
    {
     "data": {
      "image/png": "[encoded data removed]",
      "text/plain": [
       "<Figure size 1440x360 with 1 Axes>"
      ]
     },
     "metadata": {},
     "output_type": "display_data"
    }
   ],
   "source": [
    "plt.figure(figsize=(20, 5))\n",
    "date_count.plot(x=date_count.index, y=date_count.values, color=\"#1f4068\")\n",
    "plt.title(\"날짜별 기사 개수\")\n",
    "plt.xlabel(\"날짜\")\n",
    "plt.ylabel(\"개수\")\n",
    "plt.show()"
   ]
  },
  {
   "cell_type": "markdown",
   "metadata": {},
   "source": [
    "날짜별로 기사를 확인한 결과 이번 신종 코로나 바이러스 데이터가 주를 이루고 있었으며  \n",
    "1, 2월의 데이터보다 3월의 데이터가 월등히 많은 것을 알 수 있었다."
   ]
  },
  {
   "cell_type": "markdown",
   "metadata": {},
   "source": [
    "## 3-2. 신종 코로나 바이러스(COVID-19) 기사 개수 그래프\n",
    "본 분석의 요점인 COVID19의 기사만 필터링 한 2019, 2020년의 기사 개수 추이"
   ]
  },
  {
   "cell_type": "code",
   "execution_count": 452,
   "metadata": {},
   "outputs": [],
   "source": [
    "covid_count = covid19['publish_date_ymd'].value_counts()\n",
    "covid_count = covid_count.sort_index(ascending=True)"
   ]
  },
  {
   "cell_type": "code",
   "execution_count": 453,
   "metadata": {},
   "outputs": [
    {
     "data": {
      "image/png": "[encoded data removed]",
      "text/plain": [
       "<Figure size 1440x360 with 1 Axes>"
      ]
     },
     "metadata": {},
     "output_type": "display_data"
    }
   ],
   "source": [
    "plt.figure(figsize=(20, 5))\n",
    "covid_count.plot(x=covid_count.index, y=covid_count.values, color=\"#e43f5a\", marker=\"s\")\n",
    "plt.title(\"날짜별 기사 개수\")\n",
    "plt.xlabel(\"날짜\")\n",
    "plt.ylabel(\"개수\")\n",
    "plt.show()"
   ]
  },
  {
   "cell_type": "markdown",
   "metadata": {},
   "source": [
    "3월 17일 이후의 데이터가 많은 것으로 보아 중요한 이슈가 있었던 것으로 추측된다."
   ]
  },
  {
   "cell_type": "markdown",
   "metadata": {},
   "source": [
    "## 3-3. COVID-CANADA :: 날짜별 캐나다 누적확진자 및 일일확진자 수"
   ]
  },
  {
   "cell_type": "code",
   "execution_count": 377,
   "metadata": {},
   "outputs": [
    {
     "data": {
      "text/html": [
       "<div>\n",
       "<style scoped>\n",
       "    .dataframe tbody tr th:only-of-type {\n",
       "        vertical-align: middle;\n",
       "    }\n",
       "\n",
       "    .dataframe tbody tr th {\n",
       "        vertical-align: top;\n",
       "    }\n",
       "\n",
       "    .dataframe thead th {\n",
       "        text-align: right;\n",
       "    }\n",
       "</style>\n",
       "<table border=\"1\" class=\"dataframe\">\n",
       "  <thead>\n",
       "    <tr style=\"text-align: right;\">\n",
       "      <th></th>\n",
       "      <th>date</th>\n",
       "      <th>numtotal</th>\n",
       "      <th>numtoday</th>\n",
       "      <th>date_md</th>\n",
       "    </tr>\n",
       "  </thead>\n",
       "  <tbody>\n",
       "    <tr>\n",
       "      <th>0</th>\n",
       "      <td>31-01-2020</td>\n",
       "      <td>4</td>\n",
       "      <td>4</td>\n",
       "      <td>31-01</td>\n",
       "    </tr>\n",
       "    <tr>\n",
       "      <th>1</th>\n",
       "      <td>08-02-2020</td>\n",
       "      <td>7</td>\n",
       "      <td>3</td>\n",
       "      <td>08-02</td>\n",
       "    </tr>\n",
       "    <tr>\n",
       "      <th>2</th>\n",
       "      <td>16-02-2020</td>\n",
       "      <td>8</td>\n",
       "      <td>1</td>\n",
       "      <td>16-02</td>\n",
       "    </tr>\n",
       "    <tr>\n",
       "      <th>3</th>\n",
       "      <td>21-02-2020</td>\n",
       "      <td>9</td>\n",
       "      <td>1</td>\n",
       "      <td>21-02</td>\n",
       "    </tr>\n",
       "    <tr>\n",
       "      <th>4</th>\n",
       "      <td>24-02-2020</td>\n",
       "      <td>10</td>\n",
       "      <td>1</td>\n",
       "      <td>24-02</td>\n",
       "    </tr>\n",
       "  </tbody>\n",
       "</table>\n",
       "</div>"
      ],
      "text/plain": [
       "         date  numtotal  numtoday date_md\n",
       "0  31-01-2020         4         4   31-01\n",
       "1  08-02-2020         7         3   08-02\n",
       "2  16-02-2020         8         1   16-02\n",
       "3  21-02-2020         9         1   21-02\n",
       "4  24-02-2020        10         1   24-02"
      ]
     },
     "execution_count": 377,
     "metadata": {},
     "output_type": "execute_result"
    }
   ],
   "source": [
    "#그래프의 가시성을 위해 알/월만 있는 변수 date_md 새로 생성\n",
    "covid_canada['date_md'] = covid_canada['date'].apply(lambda x: x[0:5])\n",
    "covid_canada.head()"
   ]
  },
  {
   "cell_type": "code",
   "execution_count": 759,
   "metadata": {},
   "outputs": [
    {
     "data": {
      "image/png": "[encoded data removed]",
      "text/plain": [
       "<Figure size 1440x720 with 2 Axes>"
      ]
     },
     "metadata": {},
     "output_type": "display_data"
    }
   ],
   "source": [
    "plt.figure(figsize=(20, 10))\n",
    "plt.bar(covid_canada.date_md, covid_canada.numtotal, color=\"#8ac6d1\")\n",
    "plt.ylabel(\"누적확진자\")\n",
    "axes2 = plt.twinx()\n",
    "axes2.plot(covid_canada.date_md, covid_canada.numtoday, color=\"#ffb6b9\", marker=\"s\")\n",
    "axes2.grid(False)\n",
    "axes2.set_ylabel(\"일일확진자\")\n",
    "axes2.set_xlabel(\"날짜(일/월)\")\n",
    "axes2.set_ylim(0, 1200)\n",
    "plt.title(\"날짜별 누적확진자 및 일일확진자 추이\")\n",
    "plt.show()"
   ]
  },
  {
   "cell_type": "markdown",
   "metadata": {},
   "source": [
    "막대그래프는 누적확진자 수 그래프이며 꺾은선 그래프는 일일 확진자 수를 나타낸다.  \n",
    "거의 0에 가까운 일일확진자 수를 보이던 캐나다는 3월 중순부터 그 수간 늘어나기 시작했다."
   ]
  },
  {
   "cell_type": "markdown",
   "metadata": {},
   "source": [
    "# 3-4. Visualization 시사점\n",
    "\n",
    "LDA를 이용한 토픽 모델링을 이용하되, 코로나 경과에 따른 변화를 분석할 것이기 때문에  \n",
    "위의 캐나다 코로나 확진자 추이 데이터를 이용하여 구간을 네 부분으로 나눈다.\n",
    "\n",
    "시기1 : 뉴스 데이터의 시작인 2019.12.22 ~ 2020.01.30 (확진자 발생 이전)   \n",
    "시기2 : 01-31 ~ 03-14 최초 확진 이후 일일확진자가 50명을 넘지 않는 단계  \n",
    "시기3 : 03-15 ~ 03-22 일일확진자 50명 이상 500명 이하  \n",
    "시기4 : 03-23 ~ 03-27 일일확진자 500명 돌파 이후 보유한 뉴스 데이터의 끝까지  \n",
    " "
   ]
  },
  {
   "cell_type": "markdown",
   "metadata": {},
   "source": [
    "### 따라서 위를 바탕으로 새로운 변수 '시기'를 만들어보자 "
   ]
  },
  {
   "cell_type": "code",
   "execution_count": 456,
   "metadata": {},
   "outputs": [],
   "source": [
    "#데이터를 시간 순서로 정렬\n",
    "covid19 = covid19.sort_values(by=['publish_date_ymd'])"
   ]
  },
  {
   "cell_type": "code",
   "execution_count": 457,
   "metadata": {},
   "outputs": [],
   "source": [
    "#뒤죽박죽된 인덱스를 reset하여 0부터 재할당\n",
    "covid19.reset_index(drop=True, inplace=True)"
   ]
  },
  {
   "cell_type": "code",
   "execution_count": null,
   "metadata": {},
   "outputs": [],
   "source": [
    "covid19.query('publish_date_ymd == \"2020-01-31\"') #0~159까지 시기1\n",
    "covid19.query('publish_date_ymd == \"2020-03-15\"') #160~1423까지 시기2\n",
    "covid19.query('publish_date_ymd == \"2020-03-23\"') #1424~2725까지 시기3\n",
    "covid19.query('publish_date_ymd == \"2020-03-27\"') #2726~3534까지 시기4"
   ]
  },
  {
   "cell_type": "code",
   "execution_count": 468,
   "metadata": {},
   "outputs": [],
   "source": [
    "#새롭게 정의할 period 변수를 0으로 초기화 한 후에 \n",
    "covid19['period'] = 0"
   ]
  },
  {
   "cell_type": "code",
   "execution_count": 481,
   "metadata": {},
   "outputs": [],
   "source": [
    "#각 시기에 맞추어 값을 할당함.\n",
    "covid19['period'].iloc[0:160] = 1\n",
    "covid19['period'].iloc[160:1424] = 2\n",
    "covid19['period'].iloc[1424:2726] = 3\n",
    "covid19['period'].iloc[2726:] = 4"
   ]
  },
  {
   "cell_type": "code",
   "execution_count": 482,
   "metadata": {},
   "outputs": [
    {
     "data": {
      "text/plain": [
       "3    1302\n",
       "2    1264\n",
       "4     809\n",
       "1     160\n",
       "Name: period, dtype: int64"
      ]
     },
     "execution_count": 482,
     "metadata": {},
     "output_type": "execute_result"
    }
   ],
   "source": [
    "#각 시기별 기사 개수는 다음과 같음. \n",
    "covid19['period'].value_counts()"
   ]
  },
  {
   "cell_type": "markdown",
   "metadata": {},
   "source": [
    "<br>\n",
    "<br>\n",
    "\n",
    "# 4. 워드 클라우드를 통한 단어 빈도 분석"
   ]
  },
  {
   "cell_type": "markdown",
   "metadata": {},
   "source": [
    "워드 클라우드를 통해 데이터에 어떤 단어들이 많이 분포해 있는지 확인해보자"
   ]
  },
  {
   "cell_type": "markdown",
   "metadata": {},
   "source": [
    "## 4-1. 워드 클라우드로 만들기 위해 string 형태로 전환"
   ]
  },
  {
   "cell_type": "code",
   "execution_count": 497,
   "metadata": {},
   "outputs": [],
   "source": [
    "#필요한 패키지를 import\n",
    "from wordcloud import WordCloud, ImageColorGenerator"
   ]
  },
  {
   "cell_type": "code",
   "execution_count": 498,
   "metadata": {},
   "outputs": [],
   "source": [
    "#title 데이터를 리스트형태로 전환 후에 string으로 묶음.\n",
    "covid19_title = ' '.join(list(covid19['title']))"
   ]
  },
  {
   "cell_type": "code",
   "execution_count": 499,
   "metadata": {},
   "outputs": [
    {
     "data": {
      "text/plain": [
       "\"Sunday Scrum: Repatriating Canadians from China amid coronavirus outbreak South Korea reports 1st possible case of viral pneumonia Previously unknown virus may be causing pneumonia outbreak in China, WHO says Previously unknown virus may be causing pneumonia outbreak in China, WHO says Is Canada at risk from a mysterious Chinese virus related to SARS? China reports 1st death from 'new type of coronavirus' China's mystery 'coronavirus' isn't currently spreading, WHO says Woman with new coronaviru\""
      ]
     },
     "execution_count": 499,
     "metadata": {},
     "output_type": "execute_result"
    }
   ],
   "source": [
    "covid19_title[:500]"
   ]
  },
  {
   "cell_type": "markdown",
   "metadata": {},
   "source": [
    "## 4-2. 불용어 처리"
   ]
  },
  {
   "cell_type": "code",
   "execution_count": 500,
   "metadata": {},
   "outputs": [
    {
     "name": "stderr",
     "output_type": "stream",
     "text": [
      "[nltk_data] Downloading package stopwords to\n",
      "[nltk_data]     C:\\Users\\강미경\\AppData\\Roaming\\nltk_data...\n",
      "[nltk_data]   Package stopwords is already up-to-date!\n",
      "[nltk_data] Downloading package punkt to\n",
      "[nltk_data]     C:\\Users\\강미경\\AppData\\Roaming\\nltk_data...\n",
      "[nltk_data]   Package punkt is already up-to-date!\n",
      "[nltk_data] Downloading package wordnet to\n",
      "[nltk_data]     C:\\Users\\강미경\\AppData\\Roaming\\nltk_data...\n",
      "[nltk_data]   Package wordnet is already up-to-date!\n"
     ]
    },
    {
     "data": {
      "text/plain": [
       "True"
      ]
     },
     "execution_count": 500,
     "metadata": {},
     "output_type": "execute_result"
    }
   ],
   "source": [
    "#필요한 패키지 임포트 및 다운로드\n",
    "import nltk\n",
    "from nltk.corpus import stopwords\n",
    "from nltk.tokenize import word_tokenize \n",
    "\n",
    "nltk.download('stopwords')\n",
    "nltk.download('punkt')\n",
    "nltk.download('wordnet')"
   ]
  },
  {
   "cell_type": "code",
   "execution_count": 501,
   "metadata": {},
   "outputs": [
    {
     "data": {
      "text/plain": [
       "['i', 'me', 'my', 'myself', 'we', 'our', 'ours', 'ourselves', 'you', \"you're\"]"
      ]
     },
     "execution_count": 501,
     "metadata": {},
     "output_type": "execute_result"
    }
   ],
   "source": [
    "#이러한 것들을 불용어로 지정해놓고 있었다.\n",
    "stopwords.words('english')[:10]"
   ]
  },
  {
   "cell_type": "code",
   "execution_count": 527,
   "metadata": {},
   "outputs": [],
   "source": [
    "#분석의 용이성을 위해 다음과 같은 불용어를 추가로 제거함.\n",
    "stop_words = set(stopwords.words('english'))\n",
    "add_stop_words = [\"'\", \",\", \"'s\", \":\", \".\", \"?\", \"n't\"]\n",
    "for word in add_stop_words:\n",
    "    stop_words.add(word)"
   ]
  },
  {
   "cell_type": "code",
   "execution_count": 528,
   "metadata": {},
   "outputs": [],
   "source": [
    "#title들을 토큰화한 후에 stop word list에 있는 불용어들을 제거함.\n",
    "word_tokens = word_tokenize(covid19_title)\n",
    "\n",
    "title_list = [] #리스트 형태 하나와 \n",
    "title = '' #스트링 형태 하나를 만듦.\n",
    "for w in word_tokens: \n",
    "    if w not in stop_words: \n",
    "        title_list.append(w)\n",
    "        title = title + ' ' + w"
   ]
  },
  {
   "cell_type": "code",
   "execution_count": 529,
   "metadata": {},
   "outputs": [
    {
     "name": "stdout",
     "output_type": "stream",
     "text": [
      "불용어 개수 :  186\n",
      "불용어 처리 전 :  264188\n",
      "불용어 처리 후 :  30374\n",
      "불용어 처리로 약  88.5 % 감소\n"
     ]
    }
   ],
   "source": [
    "print(\"불용어 개수 : \", len(stop_words))\n",
    "print(\"불용어 처리 전 : \", len(covid19_title))\n",
    "print(\"불용어 처리 후 : \", len(title_list))\n",
    "print(\"불용어 처리로 약 \", round(100-len(title_list)/len(covid19_title)*100, 1),\"% 감소\")"
   ]
  },
  {
   "cell_type": "markdown",
   "metadata": {},
   "source": [
    "## 4-3. 마스크 이미지 업로드  및 워드클라우드 생성"
   ]
  },
  {
   "cell_type": "code",
   "execution_count": 530,
   "metadata": {},
   "outputs": [],
   "source": [
    "from PIL import Image\n",
    "bat = np.array(Image.open(\"bat.png\"))"
   ]
  },
  {
   "cell_type": "code",
   "execution_count": 539,
   "metadata": {},
   "outputs": [],
   "source": [
    "wc_title = WordCloud(\n",
    "    background_color=\"white\", \n",
    "    max_words=30000, #단어의 최대 빈도는 3만개로 제한\n",
    "    max_font_size=300, #포함될 단어의 개수는 300개로 제한\n",
    "    font_path='BMDOHYEON_ttf', \n",
    "    mask=bat).generate(title)"
   ]
  },
  {
   "cell_type": "code",
   "execution_count": 540,
   "metadata": {},
   "outputs": [
    {
     "data": {
      "image/png": "[encoded data removed]",
      "text/plain": [
       "<Figure size 1080x1080 with 1 Axes>"
      ]
     },
     "metadata": {},
     "output_type": "display_data"
    }
   ],
   "source": [
    "fig = plt.figure(figsize=(15, 15))\n",
    "plt.imshow(wc_title, interpolation=\"bilinear\")\n",
    "plt.axis(\"off\")\n",
    "plt.show()"
   ]
  },
  {
   "cell_type": "markdown",
   "metadata": {},
   "source": [
    "COVID가 가장 큰 부분을 차지했으며, 이외에도 코로나 바이러스와 관련된 coronavirus, pandemic 등이 눈에 띈다.  \n",
    "이외에도 ontario, ottawa, alberta 등의 캐나다 주 이름의 빈도가 크게 나타나 있는데, 이로 보아 이 세 개의 주에서 코로나 이슈가 많았다고 추측해볼 수 있다.  \n",
    "또 코로나 바이러스의 근원지인 China도 보이며 이외에도 close, cancle, school, worker, student와 같은 코로나로 인한 일상 생활의 변화가 암시된다."
   ]
  },
  {
   "cell_type": "markdown",
   "metadata": {},
   "source": [
    "## 4-4. TOP30 워드 추출 및 빈도 확인"
   ]
  },
  {
   "cell_type": "code",
   "execution_count": 760,
   "metadata": {},
   "outputs": [],
   "source": [
    "from collections import Counter\n",
    "covid_30 = sorted(Counter(title_list).items(), reverse=True, key = lambda item:item[1])\n",
    "covid_30 = pd.DataFrame.from_dict(covid_30)\n",
    "covid_30.columns = ['word', 'count']\n",
    "covid_30[:30].to_csv(\"word30.csv\") #해당 데이터를 csv 파일로 저장."
   ]
  },
  {
   "cell_type": "code",
   "execution_count": 762,
   "metadata": {},
   "outputs": [
    {
     "data": {
      "text/html": [
       "<div>\n",
       "<style scoped>\n",
       "    .dataframe tbody tr th:only-of-type {\n",
       "        vertical-align: middle;\n",
       "    }\n",
       "\n",
       "    .dataframe tbody tr th {\n",
       "        vertical-align: top;\n",
       "    }\n",
       "\n",
       "    .dataframe thead th {\n",
       "        text-align: right;\n",
       "    }\n",
       "</style>\n",
       "<table border=\"1\" class=\"dataframe\">\n",
       "  <thead>\n",
       "    <tr style=\"text-align: right;\">\n",
       "      <th></th>\n",
       "      <th>word</th>\n",
       "      <th>count</th>\n",
       "    </tr>\n",
       "  </thead>\n",
       "  <tbody>\n",
       "    <tr>\n",
       "      <th>0</th>\n",
       "      <td>COVID-19</td>\n",
       "      <td>1523</td>\n",
       "    </tr>\n",
       "    <tr>\n",
       "      <th>1</th>\n",
       "      <td>coronavirus</td>\n",
       "      <td>659</td>\n",
       "    </tr>\n",
       "    <tr>\n",
       "      <th>2</th>\n",
       "      <td>says</td>\n",
       "      <td>250</td>\n",
       "    </tr>\n",
       "    <tr>\n",
       "      <th>3</th>\n",
       "      <td>cases</td>\n",
       "      <td>225</td>\n",
       "    </tr>\n",
       "    <tr>\n",
       "      <th>4</th>\n",
       "      <td>pandemic</td>\n",
       "      <td>223</td>\n",
       "    </tr>\n",
       "    <tr>\n",
       "      <th>5</th>\n",
       "      <td>amid</td>\n",
       "      <td>178</td>\n",
       "    </tr>\n",
       "    <tr>\n",
       "      <th>6</th>\n",
       "      <td>health</td>\n",
       "      <td>178</td>\n",
       "    </tr>\n",
       "    <tr>\n",
       "      <th>7</th>\n",
       "      <td>outbreak</td>\n",
       "      <td>161</td>\n",
       "    </tr>\n",
       "    <tr>\n",
       "      <th>8</th>\n",
       "      <td>new</td>\n",
       "      <td>161</td>\n",
       "    </tr>\n",
       "    <tr>\n",
       "      <th>9</th>\n",
       "      <td>B.C</td>\n",
       "      <td>159</td>\n",
       "    </tr>\n",
       "    <tr>\n",
       "      <th>10</th>\n",
       "      <td>Canada</td>\n",
       "      <td>157</td>\n",
       "    </tr>\n",
       "    <tr>\n",
       "      <th>11</th>\n",
       "      <td>home</td>\n",
       "      <td>146</td>\n",
       "    </tr>\n",
       "    <tr>\n",
       "      <th>12</th>\n",
       "      <td>Alberta</td>\n",
       "      <td>140</td>\n",
       "    </tr>\n",
       "    <tr>\n",
       "      <th>13</th>\n",
       "      <td>China</td>\n",
       "      <td>138</td>\n",
       "    </tr>\n",
       "    <tr>\n",
       "      <th>14</th>\n",
       "      <td>What</td>\n",
       "      <td>134</td>\n",
       "    </tr>\n",
       "    <tr>\n",
       "      <th>15</th>\n",
       "      <td>How</td>\n",
       "      <td>125</td>\n",
       "    </tr>\n",
       "    <tr>\n",
       "      <th>16</th>\n",
       "      <td>case</td>\n",
       "      <td>118</td>\n",
       "    </tr>\n",
       "    <tr>\n",
       "      <th>17</th>\n",
       "      <td>due</td>\n",
       "      <td>114</td>\n",
       "    </tr>\n",
       "    <tr>\n",
       "      <th>18</th>\n",
       "      <td>workers</td>\n",
       "      <td>113</td>\n",
       "    </tr>\n",
       "    <tr>\n",
       "      <th>19</th>\n",
       "      <td>emergency</td>\n",
       "      <td>111</td>\n",
       "    </tr>\n",
       "    <tr>\n",
       "      <th>20</th>\n",
       "      <td>spread</td>\n",
       "      <td>109</td>\n",
       "    </tr>\n",
       "    <tr>\n",
       "      <th>21</th>\n",
       "      <td>need</td>\n",
       "      <td>105</td>\n",
       "    </tr>\n",
       "    <tr>\n",
       "      <th>22</th>\n",
       "      <td>March</td>\n",
       "      <td>104</td>\n",
       "    </tr>\n",
       "    <tr>\n",
       "      <th>23</th>\n",
       "      <td>Ontario</td>\n",
       "      <td>103</td>\n",
       "    </tr>\n",
       "    <tr>\n",
       "      <th>24</th>\n",
       "      <td>know</td>\n",
       "      <td>97</td>\n",
       "    </tr>\n",
       "    <tr>\n",
       "      <th>25</th>\n",
       "      <td>say</td>\n",
       "      <td>94</td>\n",
       "    </tr>\n",
       "    <tr>\n",
       "      <th>26</th>\n",
       "      <td>Manitoba</td>\n",
       "      <td>89</td>\n",
       "    </tr>\n",
       "    <tr>\n",
       "      <th>27</th>\n",
       "      <td>P.E.I</td>\n",
       "      <td>86</td>\n",
       "    </tr>\n",
       "    <tr>\n",
       "      <th>28</th>\n",
       "      <td>Coronavirus</td>\n",
       "      <td>85</td>\n",
       "    </tr>\n",
       "    <tr>\n",
       "      <th>29</th>\n",
       "      <td>fears</td>\n",
       "      <td>85</td>\n",
       "    </tr>\n",
       "  </tbody>\n",
       "</table>\n",
       "</div>"
      ],
      "text/plain": [
       "           word  count\n",
       "0      COVID-19   1523\n",
       "1   coronavirus    659\n",
       "2          says    250\n",
       "3         cases    225\n",
       "4      pandemic    223\n",
       "5          amid    178\n",
       "6        health    178\n",
       "7      outbreak    161\n",
       "8           new    161\n",
       "9           B.C    159\n",
       "10       Canada    157\n",
       "11         home    146\n",
       "12      Alberta    140\n",
       "13        China    138\n",
       "14         What    134\n",
       "15          How    125\n",
       "16         case    118\n",
       "17          due    114\n",
       "18      workers    113\n",
       "19    emergency    111\n",
       "20       spread    109\n",
       "21         need    105\n",
       "22        March    104\n",
       "23      Ontario    103\n",
       "24         know     97\n",
       "25          say     94\n",
       "26     Manitoba     89\n",
       "27        P.E.I     86\n",
       "28  Coronavirus     85\n",
       "29        fears     85"
      ]
     },
     "execution_count": 762,
     "metadata": {},
     "output_type": "execute_result"
    }
   ],
   "source": [
    "covid_30[:30]"
   ]
  },
  {
   "cell_type": "markdown",
   "metadata": {},
   "source": [
    "<hr>"
   ]
  },
  {
   "cell_type": "markdown",
   "metadata": {},
   "source": [
    "# 5.  LDA (Latent Dirichlet Allocation, LDA)\n",
    "토픽 모델링은 문서의 집합에서 토픽을 찾아내는 프로세스를 말한다.  \n",
    "이는 문서의 주제를 알아내는 일이 중요한 곳에서 사용된다.   \n",
    "잠재 디리클레 할당 (Latent Dirichlet Allocation, LDA)은 토픽 모델링의 대표적인 알고리즘이다.  \n",
    "\n",
    "코드와 방법은\n",
    "[여기](https://medium.com/@omicro03/%EC%9E%90%EC%97%B0%EC%96%B4%EC%B2%98%EB%A6%AC-nlp-8%EC%9D%BC%EC%B0%A8-lda-f571b4da9d04) 를 참조하였음"
   ]
  },
  {
   "cell_type": "markdown",
   "metadata": {},
   "source": [
    "## 5-1. LDA 전 간단한 전처리"
   ]
  },
  {
   "cell_type": "code",
   "execution_count": 556,
   "metadata": {},
   "outputs": [],
   "source": [
    "#뒤죽박죽 섞인 인덱스를 초기화\n",
    "covid19.reset_index(drop=True, inplace=True)"
   ]
  },
  {
   "cell_type": "code",
   "execution_count": 557,
   "metadata": {},
   "outputs": [
    {
     "data": {
      "text/html": [
       "<div>\n",
       "<style scoped>\n",
       "    .dataframe tbody tr th:only-of-type {\n",
       "        vertical-align: middle;\n",
       "    }\n",
       "\n",
       "    .dataframe tbody tr th {\n",
       "        vertical-align: top;\n",
       "    }\n",
       "\n",
       "    .dataframe thead th {\n",
       "        text-align: right;\n",
       "    }\n",
       "</style>\n",
       "<table border=\"1\" class=\"dataframe\">\n",
       "  <thead>\n",
       "    <tr style=\"text-align: right;\">\n",
       "      <th></th>\n",
       "      <th>Unnamed: 0</th>\n",
       "      <th>authors</th>\n",
       "      <th>title</th>\n",
       "      <th>publish_date</th>\n",
       "      <th>description</th>\n",
       "      <th>text</th>\n",
       "      <th>url</th>\n",
       "      <th>publish_date_ymd</th>\n",
       "      <th>publish_date_yyyy</th>\n",
       "      <th>publish_date_md</th>\n",
       "      <th>period</th>\n",
       "    </tr>\n",
       "  </thead>\n",
       "  <tbody>\n",
       "    <tr>\n",
       "      <th>0</th>\n",
       "      <td>1473</td>\n",
       "      <td>['Cbc News']</td>\n",
       "      <td>Sunday Scrum: Repatriating Canadians from Chin...</td>\n",
       "      <td>2019-12-22 18:36:00</td>\n",
       "      <td>CBC News Network's Sunday Scrum panel is your ...</td>\n",
       "      <td>CBC News Network's Sunday Scrum panel is your ...</td>\n",
       "      <td>https://www.cbc.ca/news/politics/sunday-scrum-...</td>\n",
       "      <td>2019-12-22</td>\n",
       "      <td>2019</td>\n",
       "      <td>12-22</td>\n",
       "      <td>1</td>\n",
       "    </tr>\n",
       "    <tr>\n",
       "      <th>1</th>\n",
       "      <td>4571</td>\n",
       "      <td>['The Associated Press']</td>\n",
       "      <td>South Korea reports 1st possible case of viral...</td>\n",
       "      <td>2020-01-08 19:54:00</td>\n",
       "      <td>South Korea has put a 36-year-old Chinese woma...</td>\n",
       "      <td>South Korea has put a 36-year-old Chinese woma...</td>\n",
       "      <td>https://www.cbc.ca/news/health/south-korea-vir...</td>\n",
       "      <td>2020-01-08</td>\n",
       "      <td>2020</td>\n",
       "      <td>01-08</td>\n",
       "      <td>1</td>\n",
       "    </tr>\n",
       "    <tr>\n",
       "      <th>2</th>\n",
       "      <td>4387</td>\n",
       "      <td>['Thomson Reuters']</td>\n",
       "      <td>Previously unknown virus may be causing pneumo...</td>\n",
       "      <td>2020-01-09 16:27:00</td>\n",
       "      <td>A preliminary investigation has now identified...</td>\n",
       "      <td>A cluster of more than 50 pneumonia cases in C...</td>\n",
       "      <td>https://www.cbc.ca/news/health/pneumonia-china...</td>\n",
       "      <td>2020-01-09</td>\n",
       "      <td>2020</td>\n",
       "      <td>01-09</td>\n",
       "      <td>1</td>\n",
       "    </tr>\n",
       "    <tr>\n",
       "      <th>3</th>\n",
       "      <td>4409</td>\n",
       "      <td>['Thomson Reuters']</td>\n",
       "      <td>Previously unknown virus may be causing pneumo...</td>\n",
       "      <td>2020-01-09 16:27:00</td>\n",
       "      <td>A preliminary investigation has now identified...</td>\n",
       "      <td>A cluster of more than 50 pneumonia cases in C...</td>\n",
       "      <td>https://www.cbc.ca/news/health/pneumonia-china...</td>\n",
       "      <td>2020-01-09</td>\n",
       "      <td>2020</td>\n",
       "      <td>01-09</td>\n",
       "      <td>1</td>\n",
       "    </tr>\n",
       "    <tr>\n",
       "      <th>4</th>\n",
       "      <td>4567</td>\n",
       "      <td>['Senior Writer', \"Adam Miller Is Senior Digit...</td>\n",
       "      <td>Is Canada at risk from a mysterious Chinese vi...</td>\n",
       "      <td>2020-01-11 09:00:00</td>\n",
       "      <td>Authorities are working to contain a mysteriou...</td>\n",
       "      <td>This is an excerpt from Second Opinion, a week...</td>\n",
       "      <td>https://www.cbc.ca/news/health/china-virus-can...</td>\n",
       "      <td>2020-01-11</td>\n",
       "      <td>2020</td>\n",
       "      <td>01-11</td>\n",
       "      <td>1</td>\n",
       "    </tr>\n",
       "    <tr>\n",
       "      <th>...</th>\n",
       "      <td>...</td>\n",
       "      <td>...</td>\n",
       "      <td>...</td>\n",
       "      <td>...</td>\n",
       "      <td>...</td>\n",
       "      <td>...</td>\n",
       "      <td>...</td>\n",
       "      <td>...</td>\n",
       "      <td>...</td>\n",
       "      <td>...</td>\n",
       "      <td>...</td>\n",
       "    </tr>\n",
       "    <tr>\n",
       "      <th>3530</th>\n",
       "      <td>50</td>\n",
       "      <td>[]</td>\n",
       "      <td>COVID-19 can't stop the music: Balcony boogies...</td>\n",
       "      <td>2020-03-27 05:29:00</td>\n",
       "      <td>From trumpet-playing for dad, to a community d...</td>\n",
       "      <td>From trumpet-playing for dad, to a community d...</td>\n",
       "      <td>https://www.cbc.ca/news/canada/british-columbi...</td>\n",
       "      <td>2020-03-27</td>\n",
       "      <td>2020</td>\n",
       "      <td>03-27</td>\n",
       "      <td>4</td>\n",
       "    </tr>\n",
       "    <tr>\n",
       "      <th>3531</th>\n",
       "      <td>48</td>\n",
       "      <td>['Cbc News']</td>\n",
       "      <td>COVID-19 prompts acceleration of $2-million Ma...</td>\n",
       "      <td>2020-03-27 03:36:00</td>\n",
       "      <td>Main Street Project is moving fast to create s...</td>\n",
       "      <td>Main Street Project is moving fast to create s...</td>\n",
       "      <td>https://www.cbc.ca/news/canada/manitoba/msp-ex...</td>\n",
       "      <td>2020-03-27</td>\n",
       "      <td>2020</td>\n",
       "      <td>03-27</td>\n",
       "      <td>4</td>\n",
       "    </tr>\n",
       "    <tr>\n",
       "      <th>3532</th>\n",
       "      <td>33</td>\n",
       "      <td>['Cbc News']</td>\n",
       "      <td>Tree planting on hold in B.C.'s Interior over ...</td>\n",
       "      <td>2020-03-27 04:17:00</td>\n",
       "      <td>The plan for an ambitious reforestation season...</td>\n",
       "      <td>The plan for an ambitious reforestation season...</td>\n",
       "      <td>https://www.cbc.ca/news/canada/british-columbi...</td>\n",
       "      <td>2020-03-27</td>\n",
       "      <td>2020</td>\n",
       "      <td>03-27</td>\n",
       "      <td>4</td>\n",
       "    </tr>\n",
       "    <tr>\n",
       "      <th>3533</th>\n",
       "      <td>31</td>\n",
       "      <td>['Business Reporter', 'Sophia Harris Covers Bu...</td>\n",
       "      <td>Sunwing laying off 1,500 flight staff, includi...</td>\n",
       "      <td>2020-03-27 08:00:00</td>\n",
       "      <td>When Sunwing pilot Derek Butcher recovers from...</td>\n",
       "      <td>When Sunwing pilot Derek Butcher recovers from...</td>\n",
       "      <td>https://www.cbc.ca/news/business/sunwing-layof...</td>\n",
       "      <td>2020-03-27</td>\n",
       "      <td>2020</td>\n",
       "      <td>03-27</td>\n",
       "      <td>4</td>\n",
       "    </tr>\n",
       "    <tr>\n",
       "      <th>3534</th>\n",
       "      <td>0</td>\n",
       "      <td>['Cbc News']</td>\n",
       "      <td>Coronavirus a 'wake-up call' for Canada's pres...</td>\n",
       "      <td>2020-03-27 08:00:00</td>\n",
       "      <td>Canadian pharmacies are limiting how much medi...</td>\n",
       "      <td>Canadian pharmacies are limiting how much medi...</td>\n",
       "      <td>https://www.cbc.ca/news/health/covid-19-drug-s...</td>\n",
       "      <td>2020-03-27</td>\n",
       "      <td>2020</td>\n",
       "      <td>03-27</td>\n",
       "      <td>4</td>\n",
       "    </tr>\n",
       "  </tbody>\n",
       "</table>\n",
       "<p>3535 rows × 11 columns</p>\n",
       "</div>"
      ],
      "text/plain": [
       "      Unnamed: 0                                            authors  \\\n",
       "0           1473                                       ['Cbc News']   \n",
       "1           4571                           ['The Associated Press']   \n",
       "2           4387                                ['Thomson Reuters']   \n",
       "3           4409                                ['Thomson Reuters']   \n",
       "4           4567  ['Senior Writer', \"Adam Miller Is Senior Digit...   \n",
       "...          ...                                                ...   \n",
       "3530          50                                                 []   \n",
       "3531          48                                       ['Cbc News']   \n",
       "3532          33                                       ['Cbc News']   \n",
       "3533          31  ['Business Reporter', 'Sophia Harris Covers Bu...   \n",
       "3534           0                                       ['Cbc News']   \n",
       "\n",
       "                                                  title         publish_date  \\\n",
       "0     Sunday Scrum: Repatriating Canadians from Chin...  2019-12-22 18:36:00   \n",
       "1     South Korea reports 1st possible case of viral...  2020-01-08 19:54:00   \n",
       "2     Previously unknown virus may be causing pneumo...  2020-01-09 16:27:00   \n",
       "3     Previously unknown virus may be causing pneumo...  2020-01-09 16:27:00   \n",
       "4     Is Canada at risk from a mysterious Chinese vi...  2020-01-11 09:00:00   \n",
       "...                                                 ...                  ...   \n",
       "3530  COVID-19 can't stop the music: Balcony boogies...  2020-03-27 05:29:00   \n",
       "3531  COVID-19 prompts acceleration of $2-million Ma...  2020-03-27 03:36:00   \n",
       "3532  Tree planting on hold in B.C.'s Interior over ...  2020-03-27 04:17:00   \n",
       "3533  Sunwing laying off 1,500 flight staff, includi...  2020-03-27 08:00:00   \n",
       "3534  Coronavirus a 'wake-up call' for Canada's pres...  2020-03-27 08:00:00   \n",
       "\n",
       "                                            description  \\\n",
       "0     CBC News Network's Sunday Scrum panel is your ...   \n",
       "1     South Korea has put a 36-year-old Chinese woma...   \n",
       "2     A preliminary investigation has now identified...   \n",
       "3     A preliminary investigation has now identified...   \n",
       "4     Authorities are working to contain a mysteriou...   \n",
       "...                                                 ...   \n",
       "3530  From trumpet-playing for dad, to a community d...   \n",
       "3531  Main Street Project is moving fast to create s...   \n",
       "3532  The plan for an ambitious reforestation season...   \n",
       "3533  When Sunwing pilot Derek Butcher recovers from...   \n",
       "3534  Canadian pharmacies are limiting how much medi...   \n",
       "\n",
       "                                                   text  \\\n",
       "0     CBC News Network's Sunday Scrum panel is your ...   \n",
       "1     South Korea has put a 36-year-old Chinese woma...   \n",
       "2     A cluster of more than 50 pneumonia cases in C...   \n",
       "3     A cluster of more than 50 pneumonia cases in C...   \n",
       "4     This is an excerpt from Second Opinion, a week...   \n",
       "...                                                 ...   \n",
       "3530  From trumpet-playing for dad, to a community d...   \n",
       "3531  Main Street Project is moving fast to create s...   \n",
       "3532  The plan for an ambitious reforestation season...   \n",
       "3533  When Sunwing pilot Derek Butcher recovers from...   \n",
       "3534  Canadian pharmacies are limiting how much medi...   \n",
       "\n",
       "                                                    url publish_date_ymd  \\\n",
       "0     https://www.cbc.ca/news/politics/sunday-scrum-...       2019-12-22   \n",
       "1     https://www.cbc.ca/news/health/south-korea-vir...       2020-01-08   \n",
       "2     https://www.cbc.ca/news/health/pneumonia-china...       2020-01-09   \n",
       "3     https://www.cbc.ca/news/health/pneumonia-china...       2020-01-09   \n",
       "4     https://www.cbc.ca/news/health/china-virus-can...       2020-01-11   \n",
       "...                                                 ...              ...   \n",
       "3530  https://www.cbc.ca/news/canada/british-columbi...       2020-03-27   \n",
       "3531  https://www.cbc.ca/news/canada/manitoba/msp-ex...       2020-03-27   \n",
       "3532  https://www.cbc.ca/news/canada/british-columbi...       2020-03-27   \n",
       "3533  https://www.cbc.ca/news/business/sunwing-layof...       2020-03-27   \n",
       "3534  https://www.cbc.ca/news/health/covid-19-drug-s...       2020-03-27   \n",
       "\n",
       "     publish_date_yyyy publish_date_md  period  \n",
       "0                 2019           12-22       1  \n",
       "1                 2020           01-08       1  \n",
       "2                 2020           01-09       1  \n",
       "3                 2020           01-09       1  \n",
       "4                 2020           01-11       1  \n",
       "...                ...             ...     ...  \n",
       "3530              2020           03-27       4  \n",
       "3531              2020           03-27       4  \n",
       "3532              2020           03-27       4  \n",
       "3533              2020           03-27       4  \n",
       "3534              2020           03-27       4  \n",
       "\n",
       "[3535 rows x 11 columns]"
      ]
     },
     "execution_count": 557,
     "metadata": {},
     "output_type": "execute_result"
    }
   ],
   "source": [
    "covid19"
   ]
  },
  {
   "cell_type": "code",
   "execution_count": 679,
   "metadata": {},
   "outputs": [],
   "source": [
    "#자주 나오는 covid, 19 등 코로나 바이러스 관련 단어를 불용어 리스트에 추가\n",
    "stop_words = set(stopwords.words('english'))\n",
    "add_stop_words = [\"'\", \",\", \"'s\", \":\", \".\", \"?\", \"n't\", 'covid', '19', 'coronavirus', 'corona', 'covid-19']\n",
    "for word in add_stop_words:\n",
    "    stop_words.add(word)"
   ]
  },
  {
   "cell_type": "markdown",
   "metadata": {},
   "source": [
    "## 5-2. 시기별로 데이터 프레임 분리"
   ]
  },
  {
   "cell_type": "code",
   "execution_count": 657,
   "metadata": {},
   "outputs": [],
   "source": [
    "covid19_1 = covid19[covid19['period']==1]\n",
    "covid19_2 = covid19[covid19['period']==2]\n",
    "covid19_3 = covid19[covid19['period']==3]\n",
    "covid19_4 = covid19[covid19['period']==4]"
   ]
  },
  {
   "cell_type": "code",
   "execution_count": 763,
   "metadata": {},
   "outputs": [
    {
     "name": "stdout",
     "output_type": "stream",
     "text": [
      "1시기 개수 :  160\n",
      "2시기 개수 :  1264\n",
      "3시기 개수 :  1302\n",
      "4시기 개수 :  809\n",
      "합계 :  3535\n"
     ]
    }
   ],
   "source": [
    "print(\"1시기 개수 : \", len(covid19_1))\n",
    "print(\"2시기 개수 : \", len(covid19_2))\n",
    "print(\"3시기 개수 : \", len(covid19_3))\n",
    "print(\"4시기 개수 : \", len(covid19_4))\n",
    "print(\"합계 : \", len(covid19_1)+len(covid19_2)+len(covid19_3)+len(covid19_4))"
   ]
  },
  {
   "cell_type": "code",
   "execution_count": 659,
   "metadata": {},
   "outputs": [],
   "source": [
    "#이 또한 분리하는 과정에서 섞인 인덱스를 초기화\n",
    "covid19_1.reset_index(drop=True, inplace=True)\n",
    "covid19_2.reset_index(drop=True, inplace=True)\n",
    "covid19_3.reset_index(drop=True, inplace=True)\n",
    "covid19_4.reset_index(drop=True, inplace=True)"
   ]
  },
  {
   "cell_type": "markdown",
   "metadata": {},
   "source": [
    "## 5-3. LDA에 필요한 동작들을 함수화"
   ]
  },
  {
   "cell_type": "code",
   "execution_count": 773,
   "metadata": {},
   "outputs": [],
   "source": [
    "#LDA를 하기 위해 필요한 전처리들을 차례대로 진행하는 함수\n",
    "from nltk.stem import WordNetLemmatizer\n",
    "\n",
    "def preprocess(df, stop_words):\n",
    "    text = df[['title']]\n",
    "\n",
    "    #토큰화\n",
    "    text['title'] = text.apply(lambda row: nltk.word_tokenize(row['title']), axis=1)\n",
    "\n",
    "    #불용어 처리\n",
    "    text['title'] = text['title'].apply(lambda x: [word.lower() for word in x])\n",
    "    text['title'] = text['title'].apply(lambda x: [word for word in x if word not in (stop_words)])\n",
    "\n",
    "    #표제어 추출\n",
    "    text['title'] = text['title'].apply(lambda x : [WordNetLemmatizer().lemmatize(word, pos='v') for word in x])\n",
    "    \n",
    "    #길이가 3이하인 단어에 대해서 제거하는 작업을 수행\n",
    "    tokenized_doc = text['title'].apply(lambda x : [word for word in x if len(word) > 3])\n",
    "    \n",
    "    #tf-idf 행렬을 만들기 위해 역토큰화\n",
    "    detokenized_doc = []\n",
    "    for i in range(len(text)):\n",
    "        t = ' '.join(tokenized_doc[i])\n",
    "        detokenized_doc.append(t)\n",
    "    text['title'] = detokenized_doc\n",
    "    \n",
    "    return text['title']"
   ]
  },
  {
   "cell_type": "code",
   "execution_count": 774,
   "metadata": {},
   "outputs": [],
   "source": [
    "#LDA를 진행하는 함수\n",
    "from sklearn.feature_extraction.text import TfidfVectorizer\n",
    "from sklearn.decomposition import LatentDirichletAllocation\n",
    "\n",
    "\n",
    "def LDA(series, n_components=4, n_words=10):\n",
    "    \n",
    "    #LDA를 적용하기 위해 tf-idf 행렬 만들기\n",
    "    vectorizer = TfidfVectorizer(stop_words='english')\n",
    "    X = vectorizer.fit_transform(series)\n",
    "    \n",
    "    #토픽 모델링 - 잠재디리클레할당\n",
    "    lda_model = LatentDirichletAllocation(n_components=n_components, learning_method='online', random_state=777, max_iter=1)\n",
    "    lda_top = lda_model.fit_transform(X)\n",
    "    \n",
    "    #term : 문서 내 모든 단어의 집합.\n",
    "    terms = vectorizer.get_feature_names()\n",
    "    \n",
    "    #모델로부터 얻은 토픽과 그 tf-idf값을 반환받음.\n",
    "    topics = []\n",
    "    for idx, topic in enumerate(lda_model.components_):\n",
    "        print(\"Topic %d :\" % (idx+1), [(terms[i], topic[i].round(2)) for i in topic.argsort()[:-n_words -1:-1]])\n",
    "        topics.append([(terms[i]) for i in topic.argsort()[:-n_words -1:-1]])\n",
    "    \n",
    "    #결과물을 보기 좋게 데이터 프레임으로 출력.\n",
    "    return pd.DataFrame(topics)"
   ]
  },
  {
   "cell_type": "markdown",
   "metadata": {},
   "source": [
    "# 6. 분석"
   ]
  },
  {
   "cell_type": "code",
   "execution_count": 775,
   "metadata": {},
   "outputs": [
    {
     "name": "stdout",
     "output_type": "stream",
     "text": [
      "Topic 1 : [('officials', 3.61), ('case', 3.33), ('confirm', 2.85), ('outbreak', 2.21), ('ottawa', 2.06), ('spread', 2.02), ('ontario', 1.95), ('health', 1.75), ('year', 1.69), ('want', 1.68)]\n",
      "Topic 2 : [('fear', 1.98), ('declare', 1.95), ('airlift', 1.92), ('health', 1.88), ('negotiate', 1.86), ('emergency', 1.85), ('canada', 1.83), ('rise', 1.77), ('global', 1.77), ('death', 1.68)]\n",
      "Topic 3 : [('public', 2.29), ('officer', 2.23), ('chief', 2.17), ('health', 1.84), ('risk', 1.83), ('china', 1.74), ('condemn', 1.64), ('outbreak', 1.53), ('canada', 1.5), ('racist', 1.47)]\n"
     ]
    }
   ],
   "source": [
    "#1시기 : 1시기는 기사 개수가 몇 개 없는 이유로 토픽을 기본값인 4가 아닌 3으로 주어 출력.\n",
    "covid19_1_res = LDA(preprocess(covid19_1, stop_words), 3, 10)"
   ]
  },
  {
   "cell_type": "code",
   "execution_count": 776,
   "metadata": {},
   "outputs": [
    {
     "name": "stdout",
     "output_type": "stream",
     "text": [
      "Topic 1 : [('case', 12.48), ('cancel', 12.1), ('quarantine', 11.97), ('cruise', 10.0), ('school', 9.43), ('test', 9.26), ('close', 9.15), ('confirm', 9.0), ('ottawa', 8.99), ('ship', 8.28)]\n",
      "Topic 2 : [('health', 11.53), ('case', 10.3), ('public', 8.88), ('chief', 7.49), ('manitoba', 7.24), ('fear', 6.21), ('confirm', 6.06), ('officials', 5.94), ('identify', 5.94), ('workers', 5.86)]\n",
      "Topic 3 : [('need', 9.99), ('march', 8.91), ('know', 8.1), ('2020', 6.75), ('nova', 6.3), ('world', 5.99), ('scotia', 5.26), ('happen', 5.16), ('service', 5.12), ('impact', 4.72)]\n",
      "Topic 4 : [('case', 11.55), ('pandemic', 10.81), ('travel', 10.56), ('quick', 9.65), ('stories', 9.63), ('inform', 9.61), ('scan', 9.6), ('prepare', 8.97), ('outbreak', 8.02), ('plan', 7.17)]\n"
     ]
    }
   ],
   "source": [
    "#2시기 \n",
    "covid19_2_res = LDA(preprocess(covid19_2, stop_words))"
   ]
  },
  {
   "cell_type": "code",
   "execution_count": 777,
   "metadata": {},
   "outputs": [
    {
     "name": "stdout",
     "output_type": "stream",
     "text": [
      "Topic 1 : [('case', 22.2), ('march', 18.73), ('happen', 15.24), ('amid', 13.4), ('pandemic', 13.1), ('confirm', 11.77), ('need', 9.69), ('know', 8.99), ('report', 8.92), ('alberta', 8.77)]\n",
      "Topic 2 : [('distance', 13.63), ('social', 13.28), ('follow', 10.77), ('face', 7.81), ('work', 7.28), ('vancouver', 6.98), ('islanders', 6.76), ('human', 6.21), ('diseases', 6.08), ('animals', 6.06)]\n",
      "Topic 3 : [('spread', 13.06), ('businesses', 12.78), ('workers', 11.11), ('test', 11.05), ('veterinarians', 8.19), ('non', 8.14), ('care', 7.89), ('positive', 7.87), ('essential', 7.23), ('platforms', 7.09)]\n",
      "Topic 4 : [('emergency', 13.25), ('public', 8.1), ('declare', 7.99), ('health', 7.8), ('state', 7.77), ('doctor', 7.04), ('city', 4.85), ('brace', 4.82), ('manitoba', 4.46), ('service', 4.44)]\n"
     ]
    }
   ],
   "source": [
    "#3시기 \n",
    "covid19_3_res = LDA(preprocess(covid19_3, stop_words))"
   ]
  },
  {
   "cell_type": "code",
   "execution_count": 778,
   "metadata": {},
   "outputs": [
    {
     "name": "stdout",
     "output_type": "stream",
     "text": [
      "Topic 1 : [('hospital', 3.51), ('time', 3.44), ('start', 3.33), ('pandemic', 3.03), ('social', 3.02), ('recession', 2.89), ('demand', 2.78), ('distance', 2.54), ('canada', 2.5), ('experts', 2.38)]\n",
      "Topic 2 : [('test', 7.07), ('positive', 5.58), ('city', 5.25), ('staff', 4.7), ('john', 3.77), ('isolation', 3.77), ('students', 3.41), ('project', 3.4), ('safe', 3.36), ('regina', 3.31)]\n",
      "Topic 3 : [('march', 8.98), ('alberta', 8.17), ('pandemic', 7.87), ('home', 7.31), ('case', 7.16), ('need', 7.01), ('know', 6.93), ('canada', 6.84), ('service', 6.09), ('workers', 5.47)]\n",
      "Topic 4 : [('emergency', 4.56), ('case', 3.7), ('state', 3.67), ('declare', 3.53), ('doctor', 3.4), ('sask', 2.88), ('drug', 2.74), ('mayor', 2.49), ('quebec', 2.42), ('border', 2.39)]\n"
     ]
    }
   ],
   "source": [
    "#4시기 \n",
    "covid19_4_res = LDA(preprocess(covid19_4, stop_words))"
   ]
  },
  {
   "cell_type": "markdown",
   "metadata": {},
   "source": [
    "## 1시기 : 2019.12.22 ~ 2020.01.30 확진자 발생 이전\n"
   ]
  },
  {
   "cell_type": "code",
   "execution_count": 772,
   "metadata": {},
   "outputs": [
    {
     "data": {
      "text/html": [
       "<div>\n",
       "<style scoped>\n",
       "    .dataframe tbody tr th:only-of-type {\n",
       "        vertical-align: middle;\n",
       "    }\n",
       "\n",
       "    .dataframe tbody tr th {\n",
       "        vertical-align: top;\n",
       "    }\n",
       "\n",
       "    .dataframe thead th {\n",
       "        text-align: right;\n",
       "    }\n",
       "</style>\n",
       "<table border=\"1\" class=\"dataframe\">\n",
       "  <thead>\n",
       "    <tr style=\"text-align: right;\">\n",
       "      <th></th>\n",
       "      <th>0</th>\n",
       "      <th>1</th>\n",
       "      <th>2</th>\n",
       "      <th>3</th>\n",
       "      <th>4</th>\n",
       "      <th>5</th>\n",
       "      <th>6</th>\n",
       "      <th>7</th>\n",
       "      <th>8</th>\n",
       "      <th>9</th>\n",
       "    </tr>\n",
       "  </thead>\n",
       "  <tbody>\n",
       "    <tr>\n",
       "      <th>0</th>\n",
       "      <td>officials</td>\n",
       "      <td>case</td>\n",
       "      <td>confirm</td>\n",
       "      <td>outbreak</td>\n",
       "      <td>ottawa</td>\n",
       "      <td>spread</td>\n",
       "      <td>ontario</td>\n",
       "      <td>health</td>\n",
       "      <td>year</td>\n",
       "      <td>want</td>\n",
       "    </tr>\n",
       "    <tr>\n",
       "      <th>1</th>\n",
       "      <td>fear</td>\n",
       "      <td>declare</td>\n",
       "      <td>airlift</td>\n",
       "      <td>health</td>\n",
       "      <td>negotiate</td>\n",
       "      <td>emergency</td>\n",
       "      <td>canada</td>\n",
       "      <td>rise</td>\n",
       "      <td>global</td>\n",
       "      <td>death</td>\n",
       "    </tr>\n",
       "    <tr>\n",
       "      <th>2</th>\n",
       "      <td>public</td>\n",
       "      <td>officer</td>\n",
       "      <td>chief</td>\n",
       "      <td>health</td>\n",
       "      <td>risk</td>\n",
       "      <td>china</td>\n",
       "      <td>condemn</td>\n",
       "      <td>outbreak</td>\n",
       "      <td>canada</td>\n",
       "      <td>racist</td>\n",
       "    </tr>\n",
       "  </tbody>\n",
       "</table>\n",
       "</div>"
      ],
      "text/plain": [
       "           0        1        2         3          4          5        6  \\\n",
       "0  officials     case  confirm  outbreak     ottawa     spread  ontario   \n",
       "1       fear  declare  airlift    health  negotiate  emergency   canada   \n",
       "2     public  officer    chief    health       risk      china  condemn   \n",
       "\n",
       "          7       8       9  \n",
       "0    health    year    want  \n",
       "1      rise  global   death  \n",
       "2  outbreak  canada  racist  "
      ]
     },
     "execution_count": 772,
     "metadata": {},
     "output_type": "execute_result"
    }
   ],
   "source": [
    "covid19_1_res"
   ]
  },
  {
   "cell_type": "markdown",
   "metadata": {},
   "source": [
    "## 2시기 : 2020.01.31 ~ 2020.03.14 최초 확진 이후 일일확진자가 50명을 넘지 않는 단계\n"
   ]
  },
  {
   "cell_type": "code",
   "execution_count": 738,
   "metadata": {},
   "outputs": [
    {
     "name": "stdout",
     "output_type": "stream",
     "text": [
      "2시기 : 2020.01.31 ~ 2020.03.14 최초 확진 이후 일일확진자가 50명을 넘지 않는 단계 \n",
      "\n"
     ]
    },
    {
     "data": {
      "text/html": [
       "<div>\n",
       "<style scoped>\n",
       "    .dataframe tbody tr th:only-of-type {\n",
       "        vertical-align: middle;\n",
       "    }\n",
       "\n",
       "    .dataframe tbody tr th {\n",
       "        vertical-align: top;\n",
       "    }\n",
       "\n",
       "    .dataframe thead th {\n",
       "        text-align: right;\n",
       "    }\n",
       "</style>\n",
       "<table border=\"1\" class=\"dataframe\">\n",
       "  <thead>\n",
       "    <tr style=\"text-align: right;\">\n",
       "      <th></th>\n",
       "      <th>0</th>\n",
       "      <th>1</th>\n",
       "      <th>2</th>\n",
       "      <th>3</th>\n",
       "      <th>4</th>\n",
       "      <th>5</th>\n",
       "      <th>6</th>\n",
       "      <th>7</th>\n",
       "      <th>8</th>\n",
       "      <th>9</th>\n",
       "    </tr>\n",
       "  </thead>\n",
       "  <tbody>\n",
       "    <tr>\n",
       "      <th>0</th>\n",
       "      <td>case</td>\n",
       "      <td>cancel</td>\n",
       "      <td>quarantine</td>\n",
       "      <td>cruise</td>\n",
       "      <td>school</td>\n",
       "      <td>test</td>\n",
       "      <td>close</td>\n",
       "      <td>confirm</td>\n",
       "      <td>ottawa</td>\n",
       "      <td>ship</td>\n",
       "    </tr>\n",
       "    <tr>\n",
       "      <th>1</th>\n",
       "      <td>health</td>\n",
       "      <td>case</td>\n",
       "      <td>public</td>\n",
       "      <td>chief</td>\n",
       "      <td>manitoba</td>\n",
       "      <td>fear</td>\n",
       "      <td>confirm</td>\n",
       "      <td>officials</td>\n",
       "      <td>identify</td>\n",
       "      <td>workers</td>\n",
       "    </tr>\n",
       "    <tr>\n",
       "      <th>2</th>\n",
       "      <td>need</td>\n",
       "      <td>march</td>\n",
       "      <td>know</td>\n",
       "      <td>2020</td>\n",
       "      <td>nova</td>\n",
       "      <td>world</td>\n",
       "      <td>scotia</td>\n",
       "      <td>happen</td>\n",
       "      <td>service</td>\n",
       "      <td>impact</td>\n",
       "    </tr>\n",
       "    <tr>\n",
       "      <th>3</th>\n",
       "      <td>case</td>\n",
       "      <td>pandemic</td>\n",
       "      <td>travel</td>\n",
       "      <td>quick</td>\n",
       "      <td>stories</td>\n",
       "      <td>inform</td>\n",
       "      <td>scan</td>\n",
       "      <td>prepare</td>\n",
       "      <td>outbreak</td>\n",
       "      <td>plan</td>\n",
       "    </tr>\n",
       "  </tbody>\n",
       "</table>\n",
       "</div>"
      ],
      "text/plain": [
       "        0         1           2       3         4       5        6          7  \\\n",
       "0    case    cancel  quarantine  cruise    school    test    close    confirm   \n",
       "1  health      case      public   chief  manitoba    fear  confirm  officials   \n",
       "2    need     march        know    2020      nova   world   scotia     happen   \n",
       "3    case  pandemic      travel   quick   stories  inform     scan    prepare   \n",
       "\n",
       "          8        9  \n",
       "0    ottawa     ship  \n",
       "1  identify  workers  \n",
       "2   service   impact  \n",
       "3  outbreak     plan  "
      ]
     },
     "execution_count": 738,
     "metadata": {},
     "output_type": "execute_result"
    }
   ],
   "source": [
    "covid19_2_res"
   ]
  },
  {
   "cell_type": "markdown",
   "metadata": {},
   "source": [
    "## 3시기 : 2020.03.15 ~ 2020.03.22 일일확진자 50명 이상 500명 이하\n"
   ]
  },
  {
   "cell_type": "code",
   "execution_count": 739,
   "metadata": {},
   "outputs": [
    {
     "name": "stdout",
     "output_type": "stream",
     "text": [
      "3시기 : 2020.03.15 ~ 2020.03.22일일확진자 50명 이상 500명 이하 \n",
      "\n"
     ]
    },
    {
     "data": {
      "text/html": [
       "<div>\n",
       "<style scoped>\n",
       "    .dataframe tbody tr th:only-of-type {\n",
       "        vertical-align: middle;\n",
       "    }\n",
       "\n",
       "    .dataframe tbody tr th {\n",
       "        vertical-align: top;\n",
       "    }\n",
       "\n",
       "    .dataframe thead th {\n",
       "        text-align: right;\n",
       "    }\n",
       "</style>\n",
       "<table border=\"1\" class=\"dataframe\">\n",
       "  <thead>\n",
       "    <tr style=\"text-align: right;\">\n",
       "      <th></th>\n",
       "      <th>0</th>\n",
       "      <th>1</th>\n",
       "      <th>2</th>\n",
       "      <th>3</th>\n",
       "      <th>4</th>\n",
       "      <th>5</th>\n",
       "      <th>6</th>\n",
       "      <th>7</th>\n",
       "      <th>8</th>\n",
       "      <th>9</th>\n",
       "    </tr>\n",
       "  </thead>\n",
       "  <tbody>\n",
       "    <tr>\n",
       "      <th>0</th>\n",
       "      <td>case</td>\n",
       "      <td>march</td>\n",
       "      <td>happen</td>\n",
       "      <td>amid</td>\n",
       "      <td>pandemic</td>\n",
       "      <td>confirm</td>\n",
       "      <td>need</td>\n",
       "      <td>know</td>\n",
       "      <td>report</td>\n",
       "      <td>alberta</td>\n",
       "    </tr>\n",
       "    <tr>\n",
       "      <th>1</th>\n",
       "      <td>distance</td>\n",
       "      <td>social</td>\n",
       "      <td>follow</td>\n",
       "      <td>face</td>\n",
       "      <td>work</td>\n",
       "      <td>vancouver</td>\n",
       "      <td>islanders</td>\n",
       "      <td>human</td>\n",
       "      <td>diseases</td>\n",
       "      <td>animals</td>\n",
       "    </tr>\n",
       "    <tr>\n",
       "      <th>2</th>\n",
       "      <td>spread</td>\n",
       "      <td>businesses</td>\n",
       "      <td>workers</td>\n",
       "      <td>test</td>\n",
       "      <td>veterinarians</td>\n",
       "      <td>non</td>\n",
       "      <td>care</td>\n",
       "      <td>positive</td>\n",
       "      <td>essential</td>\n",
       "      <td>platforms</td>\n",
       "    </tr>\n",
       "    <tr>\n",
       "      <th>3</th>\n",
       "      <td>emergency</td>\n",
       "      <td>public</td>\n",
       "      <td>declare</td>\n",
       "      <td>health</td>\n",
       "      <td>state</td>\n",
       "      <td>doctor</td>\n",
       "      <td>city</td>\n",
       "      <td>brace</td>\n",
       "      <td>manitoba</td>\n",
       "      <td>service</td>\n",
       "    </tr>\n",
       "  </tbody>\n",
       "</table>\n",
       "</div>"
      ],
      "text/plain": [
       "           0           1        2       3              4          5  \\\n",
       "0       case       march   happen    amid       pandemic    confirm   \n",
       "1   distance      social   follow    face           work  vancouver   \n",
       "2     spread  businesses  workers    test  veterinarians        non   \n",
       "3  emergency      public  declare  health          state     doctor   \n",
       "\n",
       "           6         7          8          9  \n",
       "0       need      know     report    alberta  \n",
       "1  islanders     human   diseases    animals  \n",
       "2       care  positive  essential  platforms  \n",
       "3       city     brace   manitoba    service  "
      ]
     },
     "execution_count": 739,
     "metadata": {},
     "output_type": "execute_result"
    }
   ],
   "source": [
    "covid19_3_res"
   ]
  },
  {
   "cell_type": "markdown",
   "metadata": {},
   "source": [
    "## 4시기 : 2020.03.23 ~ 2020.03.27 일일확진자 500명 돌파 이후\n"
   ]
  },
  {
   "cell_type": "code",
   "execution_count": 740,
   "metadata": {},
   "outputs": [
    {
     "name": "stdout",
     "output_type": "stream",
     "text": [
      "4시기 : 2020.03.23 ~ 2020.03.27 일일확진자 500명 돌파 이후 \n",
      "\n"
     ]
    },
    {
     "data": {
      "text/html": [
       "<div>\n",
       "<style scoped>\n",
       "    .dataframe tbody tr th:only-of-type {\n",
       "        vertical-align: middle;\n",
       "    }\n",
       "\n",
       "    .dataframe tbody tr th {\n",
       "        vertical-align: top;\n",
       "    }\n",
       "\n",
       "    .dataframe thead th {\n",
       "        text-align: right;\n",
       "    }\n",
       "</style>\n",
       "<table border=\"1\" class=\"dataframe\">\n",
       "  <thead>\n",
       "    <tr style=\"text-align: right;\">\n",
       "      <th></th>\n",
       "      <th>0</th>\n",
       "      <th>1</th>\n",
       "      <th>2</th>\n",
       "      <th>3</th>\n",
       "      <th>4</th>\n",
       "      <th>5</th>\n",
       "      <th>6</th>\n",
       "      <th>7</th>\n",
       "      <th>8</th>\n",
       "      <th>9</th>\n",
       "    </tr>\n",
       "  </thead>\n",
       "  <tbody>\n",
       "    <tr>\n",
       "      <th>0</th>\n",
       "      <td>hospital</td>\n",
       "      <td>time</td>\n",
       "      <td>start</td>\n",
       "      <td>pandemic</td>\n",
       "      <td>social</td>\n",
       "      <td>recession</td>\n",
       "      <td>demand</td>\n",
       "      <td>distance</td>\n",
       "      <td>canada</td>\n",
       "      <td>experts</td>\n",
       "    </tr>\n",
       "    <tr>\n",
       "      <th>1</th>\n",
       "      <td>test</td>\n",
       "      <td>positive</td>\n",
       "      <td>city</td>\n",
       "      <td>staff</td>\n",
       "      <td>john</td>\n",
       "      <td>isolation</td>\n",
       "      <td>students</td>\n",
       "      <td>project</td>\n",
       "      <td>safe</td>\n",
       "      <td>regina</td>\n",
       "    </tr>\n",
       "    <tr>\n",
       "      <th>2</th>\n",
       "      <td>march</td>\n",
       "      <td>alberta</td>\n",
       "      <td>pandemic</td>\n",
       "      <td>home</td>\n",
       "      <td>case</td>\n",
       "      <td>need</td>\n",
       "      <td>know</td>\n",
       "      <td>canada</td>\n",
       "      <td>service</td>\n",
       "      <td>workers</td>\n",
       "    </tr>\n",
       "    <tr>\n",
       "      <th>3</th>\n",
       "      <td>emergency</td>\n",
       "      <td>case</td>\n",
       "      <td>state</td>\n",
       "      <td>declare</td>\n",
       "      <td>doctor</td>\n",
       "      <td>sask</td>\n",
       "      <td>drug</td>\n",
       "      <td>mayor</td>\n",
       "      <td>quebec</td>\n",
       "      <td>border</td>\n",
       "    </tr>\n",
       "  </tbody>\n",
       "</table>\n",
       "</div>"
      ],
      "text/plain": [
       "           0         1         2         3       4          5         6  \\\n",
       "0   hospital      time     start  pandemic  social  recession    demand   \n",
       "1       test  positive      city     staff    john  isolation  students   \n",
       "2      march   alberta  pandemic      home    case       need      know   \n",
       "3  emergency      case     state   declare  doctor       sask      drug   \n",
       "\n",
       "          7        8        9  \n",
       "0  distance   canada  experts  \n",
       "1   project     safe   regina  \n",
       "2    canada  service  workers  \n",
       "3     mayor   quebec   border  "
      ]
     },
     "execution_count": 740,
     "metadata": {},
     "output_type": "execute_result"
    }
   ],
   "source": [
    "covid19_4_res"
   ]
  },
  {
   "cell_type": "markdown",
   "metadata": {},
   "source": [
    "# 7. 시사점 및 연구 한계"
   ]
  },
  {
   "cell_type": "markdown",
   "metadata": {},
   "source": [
    "### 시사점\n",
    "1. LDA를 이용한 토픽 모델링으로 코로나 경과 별 주요 토픽이 어떻게 변하는 지 봄으로써 캐나다 여론의 흐름을 감지할 수 있었다.\n",
    "2. 더불어 실제 텍스트 데이터를 이용해 분석하면서 다양한 이슈들을 경험하고 극복하였음. \n",
    "\n",
    "### 연구한계\n",
    "1. 국가별 분석을 하고 싶었지만 캐나다 언론의 시각에서만 기술된다는 점이 한계로 다가왔음.\n",
    "2. 캐나다에 대한 배경지식이 부족한 탓에 토픽 모델링 이후의 해석이 어려웠음. "
   ]
  },
  {
   "cell_type": "code",
   "execution_count": null,
   "metadata": {},
   "outputs": [],
   "source": []
  }
 ],
 "metadata": {
  "kernelspec": {
   "display_name": "Python 3",
   "language": "python",
   "name": "python3"
  },
  "language_info": {
   "codemirror_mode": {
    "name": "ipython",
    "version": 3
   },
   "file_extension": ".py",
   "mimetype": "text/x-python",
   "name": "python",
   "nbconvert_exporter": "python",
   "pygments_lexer": "ipython3",
   "version": "3.7.6"
  }
 },
 "nbformat": 4,
 "nbformat_minor": 4
}
